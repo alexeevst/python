{
 "cells": [
  {
   "cell_type": "code",
   "execution_count": 2,
   "metadata": {
    "ExecuteTime": {
     "end_time": "2022-07-05T16:10:15.226817Z",
     "start_time": "2022-07-05T16:10:10.595541Z"
    },
    "id": "QDwRrXka-YQU"
   },
   "outputs": [],
   "source": [
    "import numpy as np\n",
    "import pandas as pd\n",
    "import scipy\n",
    "import matplotlib.pyplot as plt\n",
    "import seaborn as sns\n",
    "sns.set_theme()\n",
    "from scipy import stats"
   ]
  },
  {
   "cell_type": "code",
   "execution_count": 3,
   "metadata": {
    "ExecuteTime": {
     "end_time": "2022-07-05T16:10:39.887237Z",
     "start_time": "2022-07-05T16:10:25.033461Z"
    },
    "colab": {
     "base_uri": "https://localhost:8080/"
    },
    "executionInfo": {
     "elapsed": 702,
     "status": "ok",
     "timestamp": 1652966336982,
     "user": {
      "displayName": "Станислав Алексеев",
      "userId": "03911901587482254567"
     },
     "user_tz": -240
    },
    "id": "C9ECxS4x-YQc",
    "outputId": "564c532b-d95f-48a5-b7ea-9fc29d2a48e5",
    "scrolled": false
   },
   "outputs": [
    {
     "name": "stdout",
     "output_type": "stream",
     "text": [
      "Размеры датасета (6000, 9)\n"
     ]
    },
    {
     "data": {
      "text/html": [
       "<div>\n",
       "<style scoped>\n",
       "    .dataframe tbody tr th:only-of-type {\n",
       "        vertical-align: middle;\n",
       "    }\n",
       "\n",
       "    .dataframe tbody tr th {\n",
       "        vertical-align: top;\n",
       "    }\n",
       "\n",
       "    .dataframe thead th {\n",
       "        text-align: right;\n",
       "    }\n",
       "</style>\n",
       "<table border=\"1\" class=\"dataframe\">\n",
       "  <thead>\n",
       "    <tr style=\"text-align: right;\">\n",
       "      <th></th>\n",
       "      <th>was_married</th>\n",
       "      <th>children</th>\n",
       "      <th>salary</th>\n",
       "      <th>sex</th>\n",
       "      <th>age</th>\n",
       "      <th>profession</th>\n",
       "      <th>home_cost</th>\n",
       "      <th>drive_info</th>\n",
       "      <th>happyness</th>\n",
       "    </tr>\n",
       "  </thead>\n",
       "  <tbody>\n",
       "    <tr>\n",
       "      <th>0</th>\n",
       "      <td>1</td>\n",
       "      <td>4.0</td>\n",
       "      <td>4.420530e+07</td>\n",
       "      <td>1</td>\n",
       "      <td>82.0</td>\n",
       "      <td>Engineer</td>\n",
       "      <td>1.003674e+07</td>\n",
       "      <td>NaN</td>\n",
       "      <td>0.727499</td>\n",
       "    </tr>\n",
       "    <tr>\n",
       "      <th>1</th>\n",
       "      <td>1</td>\n",
       "      <td>2.0</td>\n",
       "      <td>1.737490e+08</td>\n",
       "      <td>1</td>\n",
       "      <td>32.0</td>\n",
       "      <td>Doctor</td>\n",
       "      <td>1.014051e+07</td>\n",
       "      <td>0.0</td>\n",
       "      <td>0.383234</td>\n",
       "    </tr>\n",
       "    <tr>\n",
       "      <th>2</th>\n",
       "      <td>1</td>\n",
       "      <td>6.0</td>\n",
       "      <td>2.489055e+08</td>\n",
       "      <td>1</td>\n",
       "      <td>14.0</td>\n",
       "      <td>Entertainment</td>\n",
       "      <td>1.043318e+07</td>\n",
       "      <td>NaN</td>\n",
       "      <td>0.432142</td>\n",
       "    </tr>\n",
       "    <tr>\n",
       "      <th>3</th>\n",
       "      <td>0</td>\n",
       "      <td>1.0</td>\n",
       "      <td>1.268718e+08</td>\n",
       "      <td>0</td>\n",
       "      <td>10.0</td>\n",
       "      <td>Lawyer</td>\n",
       "      <td>1.004299e+07</td>\n",
       "      <td>NaN</td>\n",
       "      <td>0.377987</td>\n",
       "    </tr>\n",
       "    <tr>\n",
       "      <th>4</th>\n",
       "      <td>1</td>\n",
       "      <td>9.0</td>\n",
       "      <td>8.596042e+07</td>\n",
       "      <td>1</td>\n",
       "      <td>99.0</td>\n",
       "      <td>Artist</td>\n",
       "      <td>1.021908e+07</td>\n",
       "      <td>NaN</td>\n",
       "      <td>0.657579</td>\n",
       "    </tr>\n",
       "  </tbody>\n",
       "</table>\n",
       "</div>"
      ],
      "text/plain": [
       "   was_married  children        salary  sex   age     profession  \\\n",
       "0            1       4.0  4.420530e+07    1  82.0       Engineer   \n",
       "1            1       2.0  1.737490e+08    1  32.0         Doctor   \n",
       "2            1       6.0  2.489055e+08    1  14.0  Entertainment   \n",
       "3            0       1.0  1.268718e+08    0  10.0         Lawyer   \n",
       "4            1       9.0  8.596042e+07    1  99.0         Artist   \n",
       "\n",
       "      home_cost  drive_info  happyness  \n",
       "0  1.003674e+07         NaN   0.727499  \n",
       "1  1.014051e+07         0.0   0.383234  \n",
       "2  1.043318e+07         NaN   0.432142  \n",
       "3  1.004299e+07         NaN   0.377987  \n",
       "4  1.021908e+07         NaN   0.657579  "
      ]
     },
     "execution_count": 3,
     "metadata": {},
     "output_type": "execute_result"
    }
   ],
   "source": [
    "data_path = \"https://raw.githubusercontent.com/a-milenkin/mipt_data_science_2021/main/data/people_data_clustering.csv\"\n",
    "data = pd.read_csv(data_path, index_col=0)\n",
    "print(\"Размеры датасета\", data.shape)\n",
    "data.reset_index(drop = True, inplace = True) # удаляем мультииндекс\n",
    "data.head()"
   ]
  },
  {
   "cell_type": "markdown",
   "metadata": {},
   "source": [
    "**Датасет представляет собой информацию по жителям некоторого города.**\n",
    "\n",
    "- was_married - Был ли когда-либо женат/замужем\n",
    "- children - Количество детей\n",
    "- salary - Уровень зарплаты\n",
    "- sex - Пол (0 - женщина, 1 - мужчина)\n",
    "- age - Возраст\n",
    "- home_cost - Сумарная стоимость жилья/недвижимости\n",
    "- Professon - Профессия\n",
    "- drive_info - Есть ли водительские права\n",
    "- happyness - уровень счастья по результатам опроса"
   ]
  },
  {
   "cell_type": "markdown",
   "metadata": {
    "id": "0G5pic5f-YQi"
   },
   "source": [
    "# **Чистка датасета**\n",
    "- Есть ли дубли в данных? Если есть - удалить их. \n",
    "- Найти и удалить выбросы по признаку `home_cost`."
   ]
  },
  {
   "cell_type": "code",
   "execution_count": 4,
   "metadata": {
    "ExecuteTime": {
     "end_time": "2022-07-05T16:16:58.508545Z",
     "start_time": "2022-07-05T16:16:58.435882Z"
    },
    "colab": {
     "base_uri": "https://localhost:8080/"
    },
    "executionInfo": {
     "elapsed": 304,
     "status": "ok",
     "timestamp": 1652966340731,
     "user": {
      "displayName": "Станислав Алексеев",
      "userId": "03911901587482254567"
     },
     "user_tz": -240
    },
    "id": "51Uzrsic-YQj",
    "outputId": "e0dd5c66-628e-4d38-a156-3f49316c9ad9"
   },
   "outputs": [
    {
     "data": {
      "text/plain": [
       "0"
      ]
     },
     "execution_count": 4,
     "metadata": {},
     "output_type": "execute_result"
    }
   ],
   "source": [
    "data.shape[0]-data.drop_duplicates().shape[0] # дубликатов нет"
   ]
  },
  {
   "cell_type": "code",
   "execution_count": 5,
   "metadata": {
    "ExecuteTime": {
     "end_time": "2022-07-05T16:17:02.225656Z",
     "start_time": "2022-07-05T16:17:02.126124Z"
    }
   },
   "outputs": [
    {
     "data": {
      "text/html": [
       "<div>\n",
       "<style scoped>\n",
       "    .dataframe tbody tr th:only-of-type {\n",
       "        vertical-align: middle;\n",
       "    }\n",
       "\n",
       "    .dataframe tbody tr th {\n",
       "        vertical-align: top;\n",
       "    }\n",
       "\n",
       "    .dataframe thead th {\n",
       "        text-align: right;\n",
       "    }\n",
       "</style>\n",
       "<table border=\"1\" class=\"dataframe\">\n",
       "  <thead>\n",
       "    <tr style=\"text-align: right;\">\n",
       "      <th></th>\n",
       "      <th>was_married</th>\n",
       "      <th>children</th>\n",
       "      <th>salary</th>\n",
       "      <th>sex</th>\n",
       "      <th>age</th>\n",
       "      <th>home_cost</th>\n",
       "      <th>drive_info</th>\n",
       "      <th>happyness</th>\n",
       "    </tr>\n",
       "  </thead>\n",
       "  <tbody>\n",
       "    <tr>\n",
       "      <th>count</th>\n",
       "      <td>6000.000000</td>\n",
       "      <td>6000.000000</td>\n",
       "      <td>6.000000e+03</td>\n",
       "      <td>6000.000000</td>\n",
       "      <td>6000.000000</td>\n",
       "      <td>6.000000e+03</td>\n",
       "      <td>3230.000000</td>\n",
       "      <td>6000.000000</td>\n",
       "    </tr>\n",
       "    <tr>\n",
       "      <th>mean</th>\n",
       "      <td>0.842000</td>\n",
       "      <td>2.887167</td>\n",
       "      <td>8.463445e+07</td>\n",
       "      <td>0.661833</td>\n",
       "      <td>31.776667</td>\n",
       "      <td>1.019184e+07</td>\n",
       "      <td>0.729102</td>\n",
       "      <td>0.460160</td>\n",
       "    </tr>\n",
       "    <tr>\n",
       "      <th>std</th>\n",
       "      <td>0.364771</td>\n",
       "      <td>2.850285</td>\n",
       "      <td>8.022130e+07</td>\n",
       "      <td>0.473125</td>\n",
       "      <td>32.546372</td>\n",
       "      <td>3.120066e+05</td>\n",
       "      <td>0.444492</td>\n",
       "      <td>0.153727</td>\n",
       "    </tr>\n",
       "    <tr>\n",
       "      <th>min</th>\n",
       "      <td>0.000000</td>\n",
       "      <td>0.000000</td>\n",
       "      <td>1.765712e+06</td>\n",
       "      <td>0.000000</td>\n",
       "      <td>2.000000</td>\n",
       "      <td>9.824378e+06</td>\n",
       "      <td>0.000000</td>\n",
       "      <td>0.000000</td>\n",
       "    </tr>\n",
       "    <tr>\n",
       "      <th>25%</th>\n",
       "      <td>1.000000</td>\n",
       "      <td>1.000000</td>\n",
       "      <td>1.092669e+07</td>\n",
       "      <td>0.000000</td>\n",
       "      <td>10.000000</td>\n",
       "      <td>1.009639e+07</td>\n",
       "      <td>0.000000</td>\n",
       "      <td>0.351787</td>\n",
       "    </tr>\n",
       "    <tr>\n",
       "      <th>50%</th>\n",
       "      <td>1.000000</td>\n",
       "      <td>2.000000</td>\n",
       "      <td>4.301600e+07</td>\n",
       "      <td>1.000000</td>\n",
       "      <td>17.000000</td>\n",
       "      <td>1.017716e+07</td>\n",
       "      <td>1.000000</td>\n",
       "      <td>0.451588</td>\n",
       "    </tr>\n",
       "    <tr>\n",
       "      <th>75%</th>\n",
       "      <td>1.000000</td>\n",
       "      <td>4.000000</td>\n",
       "      <td>1.588318e+08</td>\n",
       "      <td>1.000000</td>\n",
       "      <td>32.000000</td>\n",
       "      <td>1.026920e+07</td>\n",
       "      <td>1.000000</td>\n",
       "      <td>0.562556</td>\n",
       "    </tr>\n",
       "    <tr>\n",
       "      <th>max</th>\n",
       "      <td>1.000000</td>\n",
       "      <td>9.000000</td>\n",
       "      <td>3.459271e+08</td>\n",
       "      <td>1.000000</td>\n",
       "      <td>100.000000</td>\n",
       "      <td>2.065792e+07</td>\n",
       "      <td>1.000000</td>\n",
       "      <td>1.000000</td>\n",
       "    </tr>\n",
       "  </tbody>\n",
       "</table>\n",
       "</div>"
      ],
      "text/plain": [
       "       was_married     children        salary          sex          age  \\\n",
       "count  6000.000000  6000.000000  6.000000e+03  6000.000000  6000.000000   \n",
       "mean      0.842000     2.887167  8.463445e+07     0.661833    31.776667   \n",
       "std       0.364771     2.850285  8.022130e+07     0.473125    32.546372   \n",
       "min       0.000000     0.000000  1.765712e+06     0.000000     2.000000   \n",
       "25%       1.000000     1.000000  1.092669e+07     0.000000    10.000000   \n",
       "50%       1.000000     2.000000  4.301600e+07     1.000000    17.000000   \n",
       "75%       1.000000     4.000000  1.588318e+08     1.000000    32.000000   \n",
       "max       1.000000     9.000000  3.459271e+08     1.000000   100.000000   \n",
       "\n",
       "          home_cost   drive_info    happyness  \n",
       "count  6.000000e+03  3230.000000  6000.000000  \n",
       "mean   1.019184e+07     0.729102     0.460160  \n",
       "std    3.120066e+05     0.444492     0.153727  \n",
       "min    9.824378e+06     0.000000     0.000000  \n",
       "25%    1.009639e+07     0.000000     0.351787  \n",
       "50%    1.017716e+07     1.000000     0.451588  \n",
       "75%    1.026920e+07     1.000000     0.562556  \n",
       "max    2.065792e+07     1.000000     1.000000  "
      ]
     },
     "execution_count": 5,
     "metadata": {},
     "output_type": "execute_result"
    }
   ],
   "source": [
    "data.describe()"
   ]
  },
  {
   "cell_type": "code",
   "execution_count": 6,
   "metadata": {
    "ExecuteTime": {
     "end_time": "2022-07-05T16:21:53.938405Z",
     "start_time": "2022-07-05T16:21:53.890881Z"
    },
    "id": "OwaIk0SkADdO"
   },
   "outputs": [],
   "source": [
    "data.dropna(axis = 1, inplace = True) # удаляем driver_info т.к. в столбце много n\\a значений"
   ]
  },
  {
   "cell_type": "code",
   "execution_count": 7,
   "metadata": {
    "ExecuteTime": {
     "end_time": "2022-07-05T16:21:56.613942Z",
     "start_time": "2022-07-05T16:21:56.557902Z"
    },
    "id": "iVm6N4FC_JVv"
   },
   "outputs": [],
   "source": [
    "q75 = np.percentile(data.home_cost, 75)  # определяем 75 перцентиль\n",
    "q25 = np.percentile(data.home_cost, 25)  # определяем 25 перцентиль\n",
    "intr_qr = q75-q25                        # определяем межквартильный диапазон\n",
    "max = q75+(1.5*intr_qr)                  # оцениваем верхнюю границу\n",
    "min = q25-(1.5*intr_qr)                  # оцениваем нижнюю границу\n",
    "\n",
    "for x in ['home_cost']:                  # для каждой строки из home_cost\n",
    "    data.loc[data[x] < min,x] = np.nan   # присвоение знания nan значениям ниже min\n",
    "    data.loc[data[x] > max,x] = np.nan   # присвоение знания nan значениям выше max"
   ]
  },
  {
   "cell_type": "code",
   "execution_count": 8,
   "metadata": {
    "ExecuteTime": {
     "end_time": "2022-07-05T16:21:58.588139Z",
     "start_time": "2022-07-05T16:21:58.564103Z"
    },
    "id": "SFOth1KK_b3F"
   },
   "outputs": [],
   "source": [
    "data.dropna(inplace = True) # удаляем выбросы"
   ]
  },
  {
   "cell_type": "code",
   "execution_count": 9,
   "metadata": {
    "ExecuteTime": {
     "end_time": "2022-07-05T16:21:59.933008Z",
     "start_time": "2022-07-05T16:21:59.901352Z"
    },
    "colab": {
     "base_uri": "https://localhost:8080/"
    },
    "executionInfo": {
     "elapsed": 15,
     "status": "ok",
     "timestamp": 1652966341037,
     "user": {
      "displayName": "Станислав Алексеев",
      "userId": "03911901587482254567"
     },
     "user_tz": -240
    },
    "id": "gSbRMcx4NxAz",
    "outputId": "04b67b7a-3bb1-4ee5-eaf0-463cef54ee3f"
   },
   "outputs": [
    {
     "data": {
      "text/html": [
       "<div>\n",
       "<style scoped>\n",
       "    .dataframe tbody tr th:only-of-type {\n",
       "        vertical-align: middle;\n",
       "    }\n",
       "\n",
       "    .dataframe tbody tr th {\n",
       "        vertical-align: top;\n",
       "    }\n",
       "\n",
       "    .dataframe thead th {\n",
       "        text-align: right;\n",
       "    }\n",
       "</style>\n",
       "<table border=\"1\" class=\"dataframe\">\n",
       "  <thead>\n",
       "    <tr style=\"text-align: right;\">\n",
       "      <th></th>\n",
       "      <th>was_married</th>\n",
       "      <th>children</th>\n",
       "      <th>salary</th>\n",
       "      <th>sex</th>\n",
       "      <th>age</th>\n",
       "      <th>profession</th>\n",
       "      <th>home_cost</th>\n",
       "      <th>happyness</th>\n",
       "    </tr>\n",
       "  </thead>\n",
       "  <tbody>\n",
       "    <tr>\n",
       "      <th>0</th>\n",
       "      <td>1</td>\n",
       "      <td>4.0</td>\n",
       "      <td>4.420530e+07</td>\n",
       "      <td>1</td>\n",
       "      <td>82.0</td>\n",
       "      <td>Engineer</td>\n",
       "      <td>1.003674e+07</td>\n",
       "      <td>0.727499</td>\n",
       "    </tr>\n",
       "    <tr>\n",
       "      <th>1</th>\n",
       "      <td>1</td>\n",
       "      <td>2.0</td>\n",
       "      <td>1.737490e+08</td>\n",
       "      <td>1</td>\n",
       "      <td>32.0</td>\n",
       "      <td>Doctor</td>\n",
       "      <td>1.014051e+07</td>\n",
       "      <td>0.383234</td>\n",
       "    </tr>\n",
       "    <tr>\n",
       "      <th>2</th>\n",
       "      <td>1</td>\n",
       "      <td>6.0</td>\n",
       "      <td>2.489055e+08</td>\n",
       "      <td>1</td>\n",
       "      <td>14.0</td>\n",
       "      <td>Entertainment</td>\n",
       "      <td>1.043318e+07</td>\n",
       "      <td>0.432142</td>\n",
       "    </tr>\n",
       "    <tr>\n",
       "      <th>3</th>\n",
       "      <td>0</td>\n",
       "      <td>1.0</td>\n",
       "      <td>1.268718e+08</td>\n",
       "      <td>0</td>\n",
       "      <td>10.0</td>\n",
       "      <td>Lawyer</td>\n",
       "      <td>1.004299e+07</td>\n",
       "      <td>0.377987</td>\n",
       "    </tr>\n",
       "    <tr>\n",
       "      <th>4</th>\n",
       "      <td>1</td>\n",
       "      <td>9.0</td>\n",
       "      <td>8.596042e+07</td>\n",
       "      <td>1</td>\n",
       "      <td>99.0</td>\n",
       "      <td>Artist</td>\n",
       "      <td>1.021908e+07</td>\n",
       "      <td>0.657579</td>\n",
       "    </tr>\n",
       "  </tbody>\n",
       "</table>\n",
       "</div>"
      ],
      "text/plain": [
       "   was_married  children        salary  sex   age     profession  \\\n",
       "0            1       4.0  4.420530e+07    1  82.0       Engineer   \n",
       "1            1       2.0  1.737490e+08    1  32.0         Doctor   \n",
       "2            1       6.0  2.489055e+08    1  14.0  Entertainment   \n",
       "3            0       1.0  1.268718e+08    0  10.0         Lawyer   \n",
       "4            1       9.0  8.596042e+07    1  99.0         Artist   \n",
       "\n",
       "      home_cost  happyness  \n",
       "0  1.003674e+07   0.727499  \n",
       "1  1.014051e+07   0.383234  \n",
       "2  1.043318e+07   0.432142  \n",
       "3  1.004299e+07   0.377987  \n",
       "4  1.021908e+07   0.657579  "
      ]
     },
     "execution_count": 9,
     "metadata": {},
     "output_type": "execute_result"
    }
   ],
   "source": [
    "data.head()"
   ]
  },
  {
   "cell_type": "markdown",
   "metadata": {
    "id": "hw_4eweB-YQk"
   },
   "source": [
    "# Проверка гипотез\n",
    "Используйте подходящий статистический критерий, чтобы доказать или опровергнуть гипотезы."
   ]
  },
  {
   "cell_type": "markdown",
   "metadata": {
    "id": "0Rs0GAwBOeWb"
   },
   "source": [
    "**Правда ли женщины в среднем имеют более высокую зарплату, чем мужчины?**"
   ]
  },
  {
   "cell_type": "code",
   "execution_count": 10,
   "metadata": {
    "ExecuteTime": {
     "end_time": "2022-07-05T16:22:03.241417Z",
     "start_time": "2022-07-05T16:22:03.218018Z"
    },
    "id": "CqJ6ML8-flfh"
   },
   "outputs": [],
   "source": [
    "def visual(a,b,c,d): # создадим функцию для визуализации a = 1 параметр, b = 2 параметр\n",
    "    type_c = data.loc[data[b] == c]  \n",
    "    type_d = data.loc[data[b] == d] \n",
    "    \n",
    "    bins = 20\n",
    "    sns.histplot(type_c[a], bins = bins, alpha = 0.9, label = c, edgecolor = 'black')\n",
    "    sns.histplot(type_d[a], bins = bins, alpha = 0.4, label = d, color = 'orange')\n",
    "    plt.legend(loc='upper right');"
   ]
  },
  {
   "cell_type": "code",
   "execution_count": 11,
   "metadata": {
    "ExecuteTime": {
     "end_time": "2022-07-05T16:22:05.952697Z",
     "start_time": "2022-07-05T16:22:05.342746Z"
    },
    "colab": {
     "base_uri": "https://localhost:8080/",
     "height": 286
    },
    "executionInfo": {
     "elapsed": 1171,
     "status": "ok",
     "timestamp": 1652966352190,
     "user": {
      "displayName": "Станислав Алексеев",
      "userId": "03911901587482254567"
     },
     "user_tz": -240
    },
    "id": "qqlBPb84SJJt",
    "outputId": "79ae0e6a-4656-4f98-ac35-31b75458f362"
   },
   "outputs": [
    {
     "data": {
      "image/png": "[encoded data removed]",
      "text/plain": [
       "<Figure size 432x288 with 1 Axes>"
      ]
     },
     "metadata": {},
     "output_type": "display_data"
    }
   ],
   "source": [
    "visual('salary', 'sex', 0, 1) # Построим на распределение зарплат у мужчин и женщин на одном графике"
   ]
  },
  {
   "cell_type": "markdown",
   "metadata": {
    "id": "neVX44KDHynU"
   },
   "source": [
    "Наблюдаем не нормальные распределения. Применяем тест Манна-Уитни\n",
    "\n"
   ]
  },
  {
   "cell_type": "code",
   "execution_count": 13,
   "metadata": {
    "ExecuteTime": {
     "end_time": "2022-07-05T16:22:20.392228Z",
     "start_time": "2022-07-05T16:22:20.368886Z"
    },
    "colab": {
     "base_uri": "https://localhost:8080/"
    },
    "executionInfo": {
     "elapsed": 325,
     "status": "ok",
     "timestamp": 1652966667318,
     "user": {
      "displayName": "Станислав Алексеев",
      "userId": "03911901587482254567"
     },
     "user_tz": -240
    },
    "id": "fdU4nJv3C5Q_",
    "outputId": "ae18d058-f690-415c-c37a-f9edc1002e0e"
   },
   "outputs": [
    {
     "name": "stdout",
     "output_type": "stream",
     "text": [
      "Разные распределения, отвeргaем H0\n"
     ]
    }
   ],
   "source": [
    "women = data.loc[data['sex'] == 0].salary\n",
    "men   = data.loc[data['sex'] == 1].salary\n",
    "stat, p_value = mannwhitneyu(women, men)\n",
    "alpha = 0.05\n",
    "if p_value > alpha:\n",
    "  print('Одинаковые распределения, не отвeргaем H0')\n",
    "else:  \n",
    "  print('Разные распределения, отвeргaем H0')"
   ]
  },
  {
   "cell_type": "markdown",
   "metadata": {
    "id": "orOxTHeCXYCs"
   },
   "source": [
    " - Как итог мы доказали, что распределения зарплат у мужчин и женщин статистически различаются. И женщины зарабатывают меньше мужчин."
   ]
  },
  {
   "cell_type": "markdown",
   "metadata": {
    "id": "W1nT1kgvZKZH"
   },
   "source": [
    "**Правда ли, что инженеры (Engineer) зарабатывают в среднем больше, чем люди из сферы развлечений (Entertainment)?**"
   ]
  },
  {
   "cell_type": "code",
   "execution_count": 14,
   "metadata": {
    "ExecuteTime": {
     "end_time": "2022-07-05T16:23:25.513593Z",
     "start_time": "2022-07-05T16:23:25.066564Z"
    },
    "colab": {
     "base_uri": "https://localhost:8080/",
     "height": 285
    },
    "executionInfo": {
     "elapsed": 868,
     "status": "ok",
     "timestamp": 1652966360801,
     "user": {
      "displayName": "Станислав Алексеев",
      "userId": "03911901587482254567"
     },
     "user_tz": -240
    },
    "id": "w1gSiarSe7Uf",
    "outputId": "0a848a5c-f021-47a1-9012-dabe511d55b2"
   },
   "outputs": [
    {
     "data": {
      "image/png": "[encoded data removed]",
      "text/plain": [
       "<Figure size 432x288 with 1 Axes>"
      ]
     },
     "metadata": {},
     "output_type": "display_data"
    }
   ],
   "source": [
    "visual('salary','profession','Engineer','Entertainment')"
   ]
  },
  {
   "cell_type": "markdown",
   "metadata": {
    "id": "a1kkaqUhIO4a"
   },
   "source": [
    "\n",
    "\n",
    "Распределения напоминаю нормальные. Проверим на нормальность.\n",
    "\n"
   ]
  },
  {
   "cell_type": "code",
   "execution_count": 15,
   "metadata": {
    "ExecuteTime": {
     "end_time": "2022-07-05T16:23:45.362153Z",
     "start_time": "2022-07-05T16:23:45.296816Z"
    },
    "id": "LK1abp3pIOkh"
   },
   "outputs": [
    {
     "name": "stdout",
     "output_type": "stream",
     "text": [
      "Распределение не нормальное\n",
      "Распределение не нормальное\n"
     ]
    }
   ],
   "source": [
    "Engineer      = data.loc[data['profession'] == 'Engineer'].salary\n",
    "Entertainment = data.loc[data['profession'] == 'Entertainment'].salary\n",
    "stat, p_value = stats.shapiro(Engineer)\n",
    "alpha = 0.05\n",
    "if p_value > alpha:\n",
    "  print('Распределение нормальное')\n",
    "else:  \n",
    "  print('Распределение не нормальное')\n",
    "stat, p_value = stats.shapiro(Entertainment)\n",
    "alpha = 0.05\n",
    "if p_value > alpha:\n",
    "  print('Распределение нормальное')\n",
    "else:  \n",
    "  print('Распределение не нормальное')"
   ]
  },
  {
   "cell_type": "markdown",
   "metadata": {
    "id": "E185h5OEJyxg"
   },
   "source": [
    "Оба распределения не являются нормальными, применим снова тест Манна-Уитни\n",
    "\n"
   ]
  },
  {
   "cell_type": "code",
   "execution_count": null,
   "metadata": {
    "colab": {
     "base_uri": "https://localhost:8080/"
    },
    "executionInfo": {
     "elapsed": 324,
     "status": "ok",
     "timestamp": 1652966690562,
     "user": {
      "displayName": "Станислав Алексеев",
      "userId": "03911901587482254567"
     },
     "user_tz": -240
    },
    "id": "MGSKu8PXBPDr",
    "outputId": "ed066c1e-479e-4342-ebc0-35aecf4d3233"
   },
   "outputs": [
    {
     "name": "stdout",
     "output_type": "stream",
     "text": [
      "Разные распределения, отвeргaем H0\n"
     ]
    }
   ],
   "source": [
    "from scipy.stats.mstats_basic import mannwhitneyu\n",
    "Engineer = data.loc[data['profession'] == 'Engineer'].salary\n",
    "Entertainment = data.loc[data['profession'] == 'Entertainment'].salary\n",
    "stat, p_value = mannwhitneyu(Engineer, Entertainment)\n",
    "alpha = 0.05\n",
    "if p_value > alpha:\n",
    "  print('Одинаковые распределения, не отвeргaем H0')\n",
    "else:  \n",
    "  print('Разные распределения, отвeргaем H0')"
   ]
  },
  {
   "cell_type": "markdown",
   "metadata": {
    "id": "1SZqVyD9KHNM"
   },
   "source": [
    "- Инженеры зарабатывают меньше, чем люди из сферы развлечения и эти различия статистически значимы. "
   ]
  },
  {
   "cell_type": "markdown",
   "metadata": {
    "id": "Fi9t8CznKq0x"
   },
   "source": [
    "**Правда ли, что те, у кого больше трёх детей, зарабатывают в среднем больше, чем те, у кого их меньше или трое?**"
   ]
  },
  {
   "cell_type": "code",
   "execution_count": null,
   "metadata": {
    "id": "WGJFb8GmJ8DD"
   },
   "outputs": [],
   "source": [
    "data['number_children'] = pd.cut(data.children, \n",
    "       bins=[-1, 3.0, 9.0], \n",
    "       labels=['less_3', 'more_3']) # добавляем столбец количества детей number_children     "
   ]
  },
  {
   "cell_type": "markdown",
   "metadata": {
    "id": "CwT9a4qpLJZS"
   },
   "source": [
    "\n",
    "Посмотрим визуально на распределение\n",
    "\n"
   ]
  },
  {
   "cell_type": "code",
   "execution_count": null,
   "metadata": {
    "colab": {
     "base_uri": "https://localhost:8080/",
     "height": 285
    },
    "executionInfo": {
     "elapsed": 526,
     "status": "ok",
     "timestamp": 1652966374626,
     "user": {
      "displayName": "Станислав Алексеев",
      "userId": "03911901587482254567"
     },
     "user_tz": -240
    },
    "id": "l7KUHsTaLI6b",
    "outputId": "64ff9931-bb12-4e6e-8401-1af292880d99"
   },
   "outputs": [
    {
     "data": {
      "image/png": "[encoded data removed]",
      "text/plain": [
       "<Figure size 432x288 with 1 Axes>"
      ]
     },
     "metadata": {},
     "output_type": "display_data"
    }
   ],
   "source": [
    "visual('salary', 'number_children', 'less_3', 'more_3')"
   ]
  },
  {
   "cell_type": "markdown",
   "metadata": {
    "id": "0Ytt1j9sLqlj"
   },
   "source": [
    "\n",
    "\n",
    "Распределения не являются нормальными, так же применим тест Манна-Уитни\n",
    "\n"
   ]
  },
  {
   "cell_type": "code",
   "execution_count": null,
   "metadata": {
    "colab": {
     "base_uri": "https://localhost:8080/"
    },
    "executionInfo": {
     "elapsed": 299,
     "status": "ok",
     "timestamp": 1652966709411,
     "user": {
      "displayName": "Станислав Алексеев",
      "userId": "03911901587482254567"
     },
     "user_tz": -240
    },
    "id": "LMLH1T8YFEhT",
    "outputId": "e5f93162-e93c-4b4a-bb05-423e3d633ace"
   },
   "outputs": [
    {
     "name": "stdout",
     "output_type": "stream",
     "text": [
      "Разные распределения, отвeргaем H0\n"
     ]
    }
   ],
   "source": [
    "from scipy.stats.mstats_basic import mannwhitneyu\n",
    "less_3 = data.loc[data['number_children'] == 'less_3'].salary\n",
    "more_3 = data.loc[data['number_children'] == 'more_3'].salary\n",
    "stat, p_value = mannwhitneyu(less_3, more_3)\n",
    "alpha = 0.05\n",
    "if p_value > alpha:\n",
    "  print('Одинаковые распределения, не отвeргaем H0')\n",
    "else:  \n",
    "  print('Разные распределения, отвeргaем H0')"
   ]
  },
  {
   "cell_type": "markdown",
   "metadata": {
    "id": "dWnVoR8QMk_Y"
   },
   "source": [
    " - Различия между зарплатами снова статистически значимо. Люди у которых больше 3 детей, в среднем зарабатывают больше, чем те у кого меньше 3 детей."
   ]
  },
  {
   "cell_type": "markdown",
   "metadata": {
    "id": "0wrYaNzSM4jS"
   },
   "source": [
    "**Правда ли, что художники (Artist) живут в домах, которые в среднем дороже или дешевле, чем дома адвокатов (Lawyer)?**"
   ]
  },
  {
   "cell_type": "markdown",
   "metadata": {
    "id": "jEQL1h4FM_mA"
   },
   "source": [
    "\n",
    "\n",
    "Посмотрим визуально\n",
    "\n"
   ]
  },
  {
   "cell_type": "code",
   "execution_count": null,
   "metadata": {
    "colab": {
     "base_uri": "https://localhost:8080/",
     "height": 285
    },
    "executionInfo": {
     "elapsed": 719,
     "status": "ok",
     "timestamp": 1652966383254,
     "user": {
      "displayName": "Станислав Алексеев",
      "userId": "03911901587482254567"
     },
     "user_tz": -240
    },
    "id": "rZTfhsxENFbO",
    "outputId": "7190669f-de57-45c8-b364-06cd309bec11"
   },
   "outputs": [
    {
     "data": {
      "image/png": "[encoded data removed]",
      "text/plain": [
       "<Figure size 432x288 with 1 Axes>"
      ]
     },
     "metadata": {},
     "output_type": "display_data"
    }
   ],
   "source": [
    "visual('home_cost', 'profession', 'Artist', 'Lawyer')"
   ]
  },
  {
   "cell_type": "markdown",
   "metadata": {
    "id": "ptHZkB55NRmN"
   },
   "source": [
    "\n",
    "\n",
    "Проверим распредления на нормальность\n",
    "\n"
   ]
  },
  {
   "cell_type": "code",
   "execution_count": null,
   "metadata": {
    "colab": {
     "base_uri": "https://localhost:8080/"
    },
    "executionInfo": {
     "elapsed": 292,
     "status": "ok",
     "timestamp": 1652966387039,
     "user": {
      "displayName": "Станислав Алексеев",
      "userId": "03911901587482254567"
     },
     "user_tz": -240
    },
    "id": "g7HqNYR8NPaa",
    "outputId": "afaae762-a83d-4191-9296-d1ef811ccc9e"
   },
   "outputs": [
    {
     "name": "stdout",
     "output_type": "stream",
     "text": [
      "Распределение нормальное\n",
      "Распределение нормальное\n"
     ]
    }
   ],
   "source": [
    "Artist = data.loc[data['profession'] == 'Artist'].home_cost\n",
    "Lawyer = data.loc[data['profession'] == 'Lawyer'].home_cost\n",
    "stat, p_value = stats.shapiro(Artist)\n",
    "alpha = 0.05\n",
    "if p_value > alpha:\n",
    "  print('Распределение нормальное')\n",
    "else:  \n",
    "  print('Распределение не нормальное')\n",
    "stat, p_value = stats.shapiro(Lawyer)\n",
    "alpha = 0.05\n",
    "if p_value > alpha:\n",
    "  print('Распределение нормальное')\n",
    "else:  \n",
    "  print('Распределение не нормальное')"
   ]
  },
  {
   "cell_type": "markdown",
   "metadata": {
    "id": "FtZpdbyZM_bB"
   },
   "source": [
    "\n",
    "Оба распределения нормальные. Можно применять t-тест\n"
   ]
  },
  {
   "cell_type": "code",
   "execution_count": null,
   "metadata": {
    "colab": {
     "base_uri": "https://localhost:8080/"
    },
    "executionInfo": {
     "elapsed": 362,
     "status": "ok",
     "timestamp": 1652966756043,
     "user": {
      "displayName": "Станислав Алексеев",
      "userId": "03911901587482254567"
     },
     "user_tz": -240
    },
    "id": "dDNX-9-GMkcl",
    "outputId": "be8879ab-4fd3-42a7-c722-a28118bbf26a"
   },
   "outputs": [
    {
     "name": "stdout",
     "output_type": "stream",
     "text": [
      "Разные распределения, отвeргaем H0\n"
     ]
    }
   ],
   "source": [
    "Artist = data.loc[data['profession'] == 'Artist'].home_cost\n",
    "Lawyer = data.loc[data['profession'] == 'Lawyer'].home_cost\n",
    "stat, p_value = stats.ttest_ind(Artist, Lawyer)\n",
    "alpha = 0.05\n",
    "if p_value > alpha:\n",
    "  print('Одинаковые распределения, не отвeргaем H0')\n",
    "else:  \n",
    "  print('Разные распределения, отвeргaем H0')"
   ]
  },
  {
   "cell_type": "markdown",
   "metadata": {
    "id": "GMlVEXD7f-XS"
   },
   "source": [
    "\n",
    "\n",
    "- Различие между стоимостью домов у адвокатов и художников статистически значимо. Художники в среднем живут в домах дешевле, чем в дома адвокатов\n",
    "\n"
   ]
  },
  {
   "cell_type": "markdown",
   "metadata": {
    "id": "9TwzRrdSgb6m"
   },
   "source": [
    "**Правда ли, что недвижимость тех, кто когда-либо был в браке, в среднем дороже, чем у тех, кто никогда не был в браке?**"
   ]
  },
  {
   "cell_type": "code",
   "execution_count": 16,
   "metadata": {
    "ExecuteTime": {
     "end_time": "2022-07-05T16:26:35.609094Z",
     "start_time": "2022-07-05T16:26:35.202689Z"
    },
    "colab": {
     "base_uri": "https://localhost:8080/",
     "height": 285
    },
    "executionInfo": {
     "elapsed": 884,
     "status": "ok",
     "timestamp": 1652967024465,
     "user": {
      "displayName": "Станислав Алексеев",
      "userId": "03911901587482254567"
     },
     "user_tz": -240
    },
    "id": "nDm_h6CZf9D-",
    "outputId": "714ce91f-9a2e-4f1e-d8b1-05573031d5c2"
   },
   "outputs": [
    {
     "data": {
      "image/png": "[encoded data removed]",
      "text/plain": [
       "<Figure size 432x288 with 1 Axes>"
      ]
     },
     "metadata": {},
     "output_type": "display_data"
    }
   ],
   "source": [
    "visual('home_cost', 'was_married', 1, 0 ) # визуализируем графики"
   ]
  },
  {
   "cell_type": "markdown",
   "metadata": {
    "id": "QWbdawNGg5r9"
   },
   "source": [
    "\n",
    "\n",
    "Проверим на нормальность\n",
    "\n"
   ]
  },
  {
   "cell_type": "code",
   "execution_count": 17,
   "metadata": {
    "ExecuteTime": {
     "end_time": "2022-07-05T16:26:56.254473Z",
     "start_time": "2022-07-05T16:26:56.182327Z"
    },
    "colab": {
     "base_uri": "https://localhost:8080/"
    },
    "executionInfo": {
     "elapsed": 299,
     "status": "ok",
     "timestamp": 1652967226948,
     "user": {
      "displayName": "Станислав Алексеев",
      "userId": "03911901587482254567"
     },
     "user_tz": -240
    },
    "id": "ExD6fFRrg3J0",
    "outputId": "92e3fb0d-0d91-40c3-f4e8-0119685959a7"
   },
   "outputs": [
    {
     "name": "stdout",
     "output_type": "stream",
     "text": [
      "Распределение нормальное\n",
      "Распределение не нормальное\n"
     ]
    },
    {
     "name": "stderr",
     "output_type": "stream",
     "text": [
      "C:\\Users\\alexs\\anaconda3\\lib\\site-packages\\scipy\\stats\\morestats.py:1760: UserWarning: p-value may not be accurate for N > 5000.\n",
      "  warnings.warn(\"p-value may not be accurate for N > 5000.\")\n"
     ]
    }
   ],
   "source": [
    "not_married = data.loc[data['was_married'] == 0].home_cost\n",
    "was_married = data.loc[data['was_married'] == 1].home_cost\n",
    "stat, p_value = stats.shapiro(not_married)\n",
    "alpha = 0.05\n",
    "if p_value > alpha:\n",
    "  print('Распределение нормальное')\n",
    "else:  \n",
    "  print('Распределение не нормальное')\n",
    "stat, p_value = stats.shapiro(was_married)\n",
    "alpha = 0.05\n",
    "if p_value > alpha:\n",
    "  print('Распределение нормальное')\n",
    "else:  \n",
    "  print('Распределение не нормальное')"
   ]
  },
  {
   "cell_type": "code",
   "execution_count": 18,
   "metadata": {
    "ExecuteTime": {
     "end_time": "2022-07-05T16:27:02.198495Z",
     "start_time": "2022-07-05T16:27:02.174488Z"
    },
    "colab": {
     "base_uri": "https://localhost:8080/"
    },
    "executionInfo": {
     "elapsed": 288,
     "status": "ok",
     "timestamp": 1652967420707,
     "user": {
      "displayName": "Станислав Алексеев",
      "userId": "03911901587482254567"
     },
     "user_tz": -240
    },
    "id": "7FbWLudmh-R6",
    "outputId": "8e29d61e-6ddf-4bbf-d0b3-5b60356fafb5"
   },
   "outputs": [
    {
     "data": {
      "text/plain": [
       "(5042, 8)"
      ]
     },
     "execution_count": 18,
     "metadata": {},
     "output_type": "execute_result"
    }
   ],
   "source": [
    "data.loc[data['was_married'] == 1].shape # заметим, что что женатых людей около 5000, воспользуемся в этот раз bootstrap"
   ]
  },
  {
   "cell_type": "code",
   "execution_count": 19,
   "metadata": {
    "ExecuteTime": {
     "end_time": "2022-07-05T16:27:27.386899Z",
     "start_time": "2022-07-05T16:27:24.354230Z"
    },
    "colab": {
     "base_uri": "https://localhost:8080/",
     "height": 299
    },
    "executionInfo": {
     "elapsed": 3468,
     "status": "ok",
     "timestamp": 1652967880318,
     "user": {
      "displayName": "Станислав Алексеев",
      "userId": "03911901587482254567"
     },
     "user_tz": -240
    },
    "id": "Kmg3p-fah3vj",
    "outputId": "20aecd0e-5522-4df7-d978-2db8f6ef115c"
   },
   "outputs": [
    {
     "name": "stderr",
     "output_type": "stream",
     "text": [
      "100%|█████████████████████████████████████████████████████████████████████████████| 1000/1000 [00:02<00:00, 494.16it/s]\n"
     ]
    },
    {
     "data": {
      "image/png": "[encoded data removed]",
      "text/plain": [
       "<Figure size 432x288 with 1 Axes>"
      ]
     },
     "metadata": {},
     "output_type": "display_data"
    }
   ],
   "source": [
    "from tqdm import tqdm\n",
    "boot = []\n",
    "for _ in tqdm(range(1000)):\n",
    "    boot_mean = data.sample(frac = 1, replace = True).groupby('was_married').home_cost.mean()\n",
    "    boot.append(boot_mean)\n",
    "boot = pd.DataFrame(boot)\n",
    "boot.plot(kind = 'density');"
   ]
  },
  {
   "cell_type": "code",
   "execution_count": 20,
   "metadata": {
    "ExecuteTime": {
     "end_time": "2022-07-05T16:27:30.731878Z",
     "start_time": "2022-07-05T16:27:30.684700Z"
    },
    "colab": {
     "base_uri": "https://localhost:8080/"
    },
    "executionInfo": {
     "elapsed": 306,
     "status": "ok",
     "timestamp": 1652968005620,
     "user": {
      "displayName": "Станислав Алексеев",
      "userId": "03911901587482254567"
     },
     "user_tz": -240
    },
    "id": "VVfbV2zkjS7R",
    "outputId": "7eca3570-9bf8-43d4-98df-fad838c750b2"
   },
   "outputs": [
    {
     "name": "stdout",
     "output_type": "stream",
     "text": [
      "Разные распределения, отвeргaем H0\n"
     ]
    }
   ],
   "source": [
    "stat, p_value = stats.ttest_ind(boot[1], boot[0]) # t-test\n",
    "alpha = 0.05\n",
    "if p_value > alpha:\n",
    "  print('Одинаковые распределения, не отвeргaем H0')\n",
    "else:  \n",
    "  print('Разные распределения, отвeргaем H0')"
   ]
  },
  {
   "cell_type": "markdown",
   "metadata": {
    "id": "VwHJAJmNklko"
   },
   "source": [
    " - Опять таки различие статистически значимо, недвижимость тех, кто когда-либо был в браке, в среднем дешевле, чем у тех, кто никогда не был в браке."
   ]
  },
  {
   "cell_type": "markdown",
   "metadata": {
    "id": "qrA8PIbNlGxw"
   },
   "source": [
    "**Правда ли, что мужчины в среднем чаще бывают в браке, чем женщины?**\n"
   ]
  },
  {
   "cell_type": "code",
   "execution_count": 22,
   "metadata": {
    "ExecuteTime": {
     "end_time": "2022-07-05T16:28:39.880696Z",
     "start_time": "2022-07-05T16:28:39.848291Z"
    },
    "colab": {
     "base_uri": "https://localhost:8080/",
     "height": 143
    },
    "executionInfo": {
     "elapsed": 341,
     "status": "ok",
     "timestamp": 1652969563749,
     "user": {
      "displayName": "Станислав Алексеев",
      "userId": "03911901587482254567"
     },
     "user_tz": -240
    },
    "id": "sUctHjfekUvo",
    "outputId": "5d550d66-942f-4f6c-9d72-c6c9857373f1"
   },
   "outputs": [
    {
     "data": {
      "text/html": [
       "<div>\n",
       "<style scoped>\n",
       "    .dataframe tbody tr th:only-of-type {\n",
       "        vertical-align: middle;\n",
       "    }\n",
       "\n",
       "    .dataframe tbody tr th {\n",
       "        vertical-align: top;\n",
       "    }\n",
       "\n",
       "    .dataframe thead th {\n",
       "        text-align: right;\n",
       "    }\n",
       "</style>\n",
       "<table border=\"1\" class=\"dataframe\">\n",
       "  <thead>\n",
       "    <tr style=\"text-align: right;\">\n",
       "      <th>was_married</th>\n",
       "      <th>0</th>\n",
       "      <th>1</th>\n",
       "    </tr>\n",
       "    <tr>\n",
       "      <th>sex</th>\n",
       "      <th></th>\n",
       "      <th></th>\n",
       "    </tr>\n",
       "  </thead>\n",
       "  <tbody>\n",
       "    <tr>\n",
       "      <th>0</th>\n",
       "      <td>668</td>\n",
       "      <td>1355</td>\n",
       "    </tr>\n",
       "    <tr>\n",
       "      <th>1</th>\n",
       "      <td>277</td>\n",
       "      <td>3687</td>\n",
       "    </tr>\n",
       "  </tbody>\n",
       "</table>\n",
       "</div>"
      ],
      "text/plain": [
       "was_married    0     1\n",
       "sex                   \n",
       "0            668  1355\n",
       "1            277  3687"
      ]
     },
     "execution_count": 22,
     "metadata": {},
     "output_type": "execute_result"
    }
   ],
   "source": [
    "sex_was_married = data.groupby(['sex', 'was_married'], as_index=False) \\\n",
    "                      .agg({'home_cost':'count'}) \\\n",
    "                      .pivot(index = 'sex', columns='was_married', values='home_cost') # Построим таблицу сопряженности\n",
    "sex_was_married"
   ]
  },
  {
   "cell_type": "code",
   "execution_count": 23,
   "metadata": {
    "ExecuteTime": {
     "end_time": "2022-07-05T16:28:44.096565Z",
     "start_time": "2022-07-05T16:28:44.048004Z"
    },
    "colab": {
     "base_uri": "https://localhost:8080/"
    },
    "executionInfo": {
     "elapsed": 298,
     "status": "ok",
     "timestamp": 1652971148192,
     "user": {
      "displayName": "Станислав Алексеев",
      "userId": "03911901587482254567"
     },
     "user_tz": -240
    },
    "id": "RjXpXo6xl5ua",
    "outputId": "af2782dd-5fd9-444c-c339-beb990408e4a"
   },
   "outputs": [
    {
     "name": "stdout",
     "output_type": "stream",
     "text": [
      "Переменные не зависимые\n"
     ]
    }
   ],
   "source": [
    "chi2, p_value, dof, ex = stats.chi2_contingency(sex_was_married) # так как у нас 2 категориальные переменные, применяем критерий Хи-квадрат\n",
    "alpha = 0.05\n",
    "if p_value > alpha:\n",
    "  print('Переменные зависимые')\n",
    "else:  \n",
    "  print('Переменные не зависимые')"
   ]
  },
  {
   "cell_type": "markdown",
   "metadata": {
    "id": "TKlw_Rm7wlBH"
   },
   "source": [
    "\n",
    "\n",
    "- Да, в нашей выборке мужчины в среднем чаще в браке, чем женщины, однако это различие статистически не значимо.\n",
    "\n"
   ]
  },
  {
   "cell_type": "markdown",
   "metadata": {
    "id": "M1tgahP8w7Yk"
   },
   "source": [
    "**Правда ли, что женщины с зарплатой выше медианной в среднем более счастливые, чем мужчины с зарплатой, которая выше средней?**"
   ]
  },
  {
   "cell_type": "code",
   "execution_count": 24,
   "metadata": {
    "ExecuteTime": {
     "end_time": "2022-07-05T16:29:39.875135Z",
     "start_time": "2022-07-05T16:29:39.809527Z"
    },
    "id": "pyX5mysVmjp-"
   },
   "outputs": [],
   "source": [
    "women_happy = data.query('sex==0 and salary > salary.median()').happyness\n",
    "men_happy = data.query('sex==1 and salary > salary.mean()').happyness"
   ]
  },
  {
   "cell_type": "code",
   "execution_count": 25,
   "metadata": {
    "ExecuteTime": {
     "end_time": "2022-07-05T16:29:50.195286Z",
     "start_time": "2022-07-05T16:29:49.745660Z"
    },
    "colab": {
     "base_uri": "https://localhost:8080/",
     "height": 285
    },
    "executionInfo": {
     "elapsed": 1515,
     "status": "ok",
     "timestamp": 1652971893237,
     "user": {
      "displayName": "Станислав Алексеев",
      "userId": "03911901587482254567"
     },
     "user_tz": -240
    },
    "id": "p4Ud6ge0x4eg",
    "outputId": "240a4004-8a5b-47e5-9130-9df694f393f8"
   },
   "outputs": [
    {
     "data": {
      "image/png": "[encoded data removed]",
      "text/plain": [
       "<Figure size 432x288 with 1 Axes>"
      ]
     },
     "metadata": {},
     "output_type": "display_data"
    }
   ],
   "source": [
    "bins = 30\n",
    "sns.histplot(women_happy, bins = bins, alpha = 0.9, label = 'women', edgecolor = 'black')\n",
    "sns.histplot(men_happy, bins = bins, alpha = 0.4, label = 'men', color = 'orange')\n",
    "plt.legend(loc='upper right');"
   ]
  },
  {
   "cell_type": "code",
   "execution_count": 26,
   "metadata": {
    "ExecuteTime": {
     "end_time": "2022-07-05T16:30:10.245667Z",
     "start_time": "2022-07-05T16:30:10.221755Z"
    },
    "colab": {
     "base_uri": "https://localhost:8080/"
    },
    "executionInfo": {
     "elapsed": 372,
     "status": "ok",
     "timestamp": 1652972114755,
     "user": {
      "displayName": "Станислав Алексеев",
      "userId": "03911901587482254567"
     },
     "user_tz": -240
    },
    "id": "YlPiXsvbyMxX",
    "outputId": "d70384d1-1ca6-4773-d770-961557467d47"
   },
   "outputs": [
    {
     "name": "stdout",
     "output_type": "stream",
     "text": [
      "Распределение нормальное\n",
      "Распределение не нормальное\n"
     ]
    }
   ],
   "source": [
    "stat, p_value = stats.shapiro(women_happy)\n",
    "alpha = 0.05\n",
    "if p_value > alpha:\n",
    "  print('Распределение нормальное')\n",
    "else:  \n",
    "  print('Распределение не нормальное')\n",
    "stat, p_value = stats.shapiro(men_happy)\n",
    "alpha = 0.05\n",
    "if p_value > alpha:\n",
    "  print('Распределение нормальное')\n",
    "else:  \n",
    "  print('Распределение не нормальное')"
   ]
  },
  {
   "cell_type": "code",
   "execution_count": null,
   "metadata": {
    "colab": {
     "base_uri": "https://localhost:8080/"
    },
    "executionInfo": {
     "elapsed": 292,
     "status": "ok",
     "timestamp": 1652972262595,
     "user": {
      "displayName": "Станислав Алексеев",
      "userId": "03911901587482254567"
     },
     "user_tz": -240
    },
    "id": "6FInv4Op0M72",
    "outputId": "353310fa-a4aa-489f-e821-e05b0cf577b1"
   },
   "outputs": [
    {
     "name": "stdout",
     "output_type": "stream",
     "text": [
      "Разные распределения, отвeргaем H0\n"
     ]
    }
   ],
   "source": [
    "stat, p_value = mannwhitneyu(women_happy, men_happy) # применим тест Манна-Уитни\n",
    "alpha = 0.05\n",
    "if p_value > alpha:\n",
    "  print('Одинаковые распределения, не отвeргaем H0')\n",
    "else:  \n",
    "  print('Разные распределения, отвeргaем H0')\n"
   ]
  },
  {
   "cell_type": "markdown",
   "metadata": {
    "id": "RejvJ4nL1dSa"
   },
   "source": [
    "- Женщины с зарплатой выше медианной в среднем менее счастливые, чем мужчины с зарплатой, которая выше средней. Это различие статистически значимо"
   ]
  },
  {
   "cell_type": "code",
   "execution_count": null,
   "metadata": {},
   "outputs": [],
   "source": []
  }
 ],
 "metadata": {
  "colab": {
   "collapsed_sections": [
    "0G5pic5f-YQi"
   ],
   "name": "hw 3.ipynb",
   "provenance": []
  },
  "kernelspec": {
   "display_name": "Python 3 (ipykernel)",
   "language": "python",
   "name": "python3"
  },
  "language_info": {
   "codemirror_mode": {
    "name": "ipython",
    "version": 3
   },
   "file_extension": ".py",
   "mimetype": "text/x-python",
   "name": "python",
   "nbconvert_exporter": "python",
   "pygments_lexer": "ipython3",
   "version": "3.9.7"
  },
  "toc": {
   "base_numbering": 1,
   "nav_menu": {},
   "number_sections": true,
   "sideBar": true,
   "skip_h1_title": false,
   "title_cell": "Table of Contents",
   "title_sidebar": "Contents",
   "toc_cell": false,
   "toc_position": {},
   "toc_section_display": true,
   "toc_window_display": false
  }
 },
 "nbformat": 4,
 "nbformat_minor": 1
}
