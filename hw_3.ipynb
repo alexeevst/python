{
  "cells": [
    {
      "cell_type": "code",
      "execution_count": null,
      "metadata": {
        "id": "QDwRrXka-YQU"
      },
      "outputs": [],
      "source": [
        "import numpy as np\n",
        "import pandas as pd\n",
        "\n",
        "import scipy\n",
        "\n",
        "import matplotlib.pyplot as plt\n",
        "import seaborn as sns\n",
        "sns.set_theme()\n",
        "from scipy import stats"
      ]
    },
    {
      "cell_type": "code",
      "execution_count": null,
      "metadata": {
        "colab": {
          "base_uri": "https://localhost:8080/"
        },
        "id": "C9ECxS4x-YQc",
        "outputId": "564c532b-d95f-48a5-b7ea-9fc29d2a48e5"
      },
      "outputs": [
        {
          "output_type": "stream",
          "name": "stdout",
          "text": [
            "Размеры датасета (6000, 9)\n"
          ]
        }
      ],
      "source": [
        "data_path = \"https://raw.githubusercontent.com/a-milenkin/mipt_data_science_2021/main/data/people_data_clustering.csv\"\n",
        "data = pd.read_csv(data_path, index_col=0)\n",
        "print(\"Размеры датасета\", data.shape)\n",
        "data.reset_index(drop = True, inplace = True) # удаляем мультииндекс\n"
      ]
    },
    {
      "cell_type": "markdown",
      "metadata": {
        "id": "9DN9m4K7-YQf"
      },
      "source": [
        "<div class=\"alert alert-info\">\n",
        "<b>Про Датасет</b>\n",
        "    \n",
        "Датасет представляет собой информацию по жителям некоторого города.\n",
        "\n",
        "* `was_married` - Был ли когда-либо женат/замужем\n",
        "* `children` - Количество детей\n",
        "* `salary` - Уровень зарплаты\n",
        "* `sex` - Пол (0 - женщина, 1 - мужчина)\n",
        "* `age` - Возраст\n",
        "* `home_cost` - Сумарная стоимость жилья/недвижимости\n",
        "* `Professon` - Профессия\n",
        "* `drive_info` - Есть ли водительские права\n",
        "* `happyness` - уровень счастья по результатам опроса\n",
        "    \n",
        "</div>"
      ]
    },
    {
      "cell_type": "markdown",
      "metadata": {
        "id": "0G5pic5f-YQi"
      },
      "source": [
        "# Чистка датасета\n",
        "* Есть ли дубли в данных? Если есть - удалить их (`drop_duplicates`). \n",
        "* Найти и удалить выбросы по признаку `home_cost`."
      ]
    },
    {
      "cell_type": "code",
      "execution_count": null,
      "metadata": {
        "colab": {
          "base_uri": "https://localhost:8080/"
        },
        "id": "51Uzrsic-YQj",
        "outputId": "e0dd5c66-628e-4d38-a156-3f49316c9ad9"
      },
      "outputs": [
        {
          "output_type": "execute_result",
          "data": {
            "text/plain": [
              "0"
            ]
          },
          "metadata": {},
          "execution_count": 4
        }
      ],
      "source": [
        "data.shape[0]-data.drop_duplicates().shape[0] # дубликатов нет"
      ]
    },
    {
      "cell_type": "code",
      "source": [
        "data.dropna(axis = 1, inplace = True) # удаляем driver_info"
      ],
      "metadata": {
        "id": "OwaIk0SkADdO"
      },
      "execution_count": null,
      "outputs": []
    },
    {
      "cell_type": "code",
      "source": [
        "q75 = np.percentile(data.home_cost, 75)  # определяем 75 перцентиль\n",
        "q25 = np.percentile(data.home_cost, 25)  # определяем 25 перцентиль\n",
        "intr_qr = q75-q25                      # определяем межквартильный диапазон\n",
        "max = q75+(1.5*intr_qr)                # оцениваем верхнюю границу\n",
        "min = q25-(1.5*intr_qr)                # оцениваем нижнюю границу\n",
        "\n",
        "for x in ['home_cost']:                # для каждой строки из home_cost\n",
        "    data.loc[data[x] < min,x] = np.nan     # присвоение знания nan значениям ниже min\n",
        "    data.loc[data[x] > max,x] = np.nan     # присвоение знания nan значениям выше max"
      ],
      "metadata": {
        "id": "iVm6N4FC_JVv"
      },
      "execution_count": null,
      "outputs": []
    },
    {
      "cell_type": "code",
      "source": [
        "data.dropna(inplace = True) # удаляем выбросы"
      ],
      "metadata": {
        "id": "SFOth1KK_b3F"
      },
      "execution_count": null,
      "outputs": []
    },
    {
      "cell_type": "code",
      "source": [
        "data.head()"
      ],
      "metadata": {
        "colab": {
          "base_uri": "https://localhost:8080/"
        },
        "id": "gSbRMcx4NxAz",
        "outputId": "04b67b7a-3bb1-4ee5-eaf0-463cef54ee3f"
      },
      "execution_count": null,
      "outputs": [
        {
          "output_type": "execute_result",
          "data": {
            "text/plain": [
              "   was_married  children        salary  sex   age     profession  \\\n",
              "0            1       4.0  4.420530e+07    1  82.0       Engineer   \n",
              "1            1       2.0  1.737490e+08    1  32.0         Doctor   \n",
              "2            1       6.0  2.489055e+08    1  14.0  Entertainment   \n",
              "3            0       1.0  1.268718e+08    0  10.0         Lawyer   \n",
              "4            1       9.0  8.596042e+07    1  99.0         Artist   \n",
              "\n",
              "      home_cost  happyness  \n",
              "0  1.003674e+07   0.727499  \n",
              "1  1.014051e+07   0.383234  \n",
              "2  1.043318e+07   0.432142  \n",
              "3  1.004299e+07   0.377987  \n",
              "4  1.021908e+07   0.657579  "
            ],
            "text/html": [
              "\n",
              "  <div id=\"df-18fce512-8f78-4f8e-9508-627a3d12b902\">\n",
              "    <div class=\"colab-df-container\">\n",
              "      <div>\n",
              "<style scoped>\n",
              "    .dataframe tbody tr th:only-of-type {\n",
              "        vertical-align: middle;\n",
              "    }\n",
              "\n",
              "    .dataframe tbody tr th {\n",
              "        vertical-align: top;\n",
              "    }\n",
              "\n",
              "    .dataframe thead th {\n",
              "        text-align: right;\n",
              "    }\n",
              "</style>\n",
              "<table border=\"1\" class=\"dataframe\">\n",
              "  <thead>\n",
              "    <tr style=\"text-align: right;\">\n",
              "      <th></th>\n",
              "      <th>was_married</th>\n",
              "      <th>children</th>\n",
              "      <th>salary</th>\n",
              "      <th>sex</th>\n",
              "      <th>age</th>\n",
              "      <th>profession</th>\n",
              "      <th>home_cost</th>\n",
              "      <th>happyness</th>\n",
              "    </tr>\n",
              "  </thead>\n",
              "  <tbody>\n",
              "    <tr>\n",
              "      <th>0</th>\n",
              "      <td>1</td>\n",
              "      <td>4.0</td>\n",
              "      <td>4.420530e+07</td>\n",
              "      <td>1</td>\n",
              "      <td>82.0</td>\n",
              "      <td>Engineer</td>\n",
              "      <td>1.003674e+07</td>\n",
              "      <td>0.727499</td>\n",
              "    </tr>\n",
              "    <tr>\n",
              "      <th>1</th>\n",
              "      <td>1</td>\n",
              "      <td>2.0</td>\n",
              "      <td>1.737490e+08</td>\n",
              "      <td>1</td>\n",
              "      <td>32.0</td>\n",
              "      <td>Doctor</td>\n",
              "      <td>1.014051e+07</td>\n",
              "      <td>0.383234</td>\n",
              "    </tr>\n",
              "    <tr>\n",
              "      <th>2</th>\n",
              "      <td>1</td>\n",
              "      <td>6.0</td>\n",
              "      <td>2.489055e+08</td>\n",
              "      <td>1</td>\n",
              "      <td>14.0</td>\n",
              "      <td>Entertainment</td>\n",
              "      <td>1.043318e+07</td>\n",
              "      <td>0.432142</td>\n",
              "    </tr>\n",
              "    <tr>\n",
              "      <th>3</th>\n",
              "      <td>0</td>\n",
              "      <td>1.0</td>\n",
              "      <td>1.268718e+08</td>\n",
              "      <td>0</td>\n",
              "      <td>10.0</td>\n",
              "      <td>Lawyer</td>\n",
              "      <td>1.004299e+07</td>\n",
              "      <td>0.377987</td>\n",
              "    </tr>\n",
              "    <tr>\n",
              "      <th>4</th>\n",
              "      <td>1</td>\n",
              "      <td>9.0</td>\n",
              "      <td>8.596042e+07</td>\n",
              "      <td>1</td>\n",
              "      <td>99.0</td>\n",
              "      <td>Artist</td>\n",
              "      <td>1.021908e+07</td>\n",
              "      <td>0.657579</td>\n",
              "    </tr>\n",
              "  </tbody>\n",
              "</table>\n",
              "</div>\n",
              "      <button class=\"colab-df-convert\" onclick=\"convertToInteractive('df-18fce512-8f78-4f8e-9508-627a3d12b902')\"\n",
              "              title=\"Convert this dataframe to an interactive table.\"\n",
              "              style=\"display:none;\">\n",
              "        \n",
              "  <svg xmlns=\"http://www.w3.org/2000/svg\" height=\"24px\"viewBox=\"0 0 24 24\"\n",
              "       width=\"24px\">\n",
              "    <path d=\"M0 0h24v24H0V0z\" fill=\"none\"/>\n",
              "    <path d=\"M18.56 5.44l.94 2.06.94-2.06 2.06-.94-2.06-.94-.94-2.06-.94 2.06-2.06.94zm-11 1L8.5 8.5l.94-2.06 2.06-.94-2.06-.94L8.5 2.5l-.94 2.06-2.06.94zm10 10l.94 2.06.94-2.06 2.06-.94-2.06-.94-.94-2.06-.94 2.06-2.06.94z\"/><path d=\"M17.41 7.96l-1.37-1.37c-.4-.4-.92-.59-1.43-.59-.52 0-1.04.2-1.43.59L10.3 9.45l-7.72 7.72c-.78.78-.78 2.05 0 2.83L4 21.41c.39.39.9.59 1.41.59.51 0 1.02-.2 1.41-.59l7.78-7.78 2.81-2.81c.8-.78.8-2.07 0-2.86zM5.41 20L4 18.59l7.72-7.72 1.47 1.35L5.41 20z\"/>\n",
              "  </svg>\n",
              "      </button>\n",
              "      \n",
              "  <style>\n",
              "    .colab-df-container {\n",
              "      display:flex;\n",
              "      flex-wrap:wrap;\n",
              "      gap: 12px;\n",
              "    }\n",
              "\n",
              "    .colab-df-convert {\n",
              "      background-color: #E8F0FE;\n",
              "      border: none;\n",
              "      border-radius: 50%;\n",
              "      cursor: pointer;\n",
              "      display: none;\n",
              "      fill: #1967D2;\n",
              "      height: 32px;\n",
              "      padding: 0 0 0 0;\n",
              "      width: 32px;\n",
              "    }\n",
              "\n",
              "    .colab-df-convert:hover {\n",
              "      background-color: #E2EBFA;\n",
              "      box-shadow: 0px 1px 2px rgba(60, 64, 67, 0.3), 0px 1px 3px 1px rgba(60, 64, 67, 0.15);\n",
              "      fill: #174EA6;\n",
              "    }\n",
              "\n",
              "    [theme=dark] .colab-df-convert {\n",
              "      background-color: #3B4455;\n",
              "      fill: #D2E3FC;\n",
              "    }\n",
              "\n",
              "    [theme=dark] .colab-df-convert:hover {\n",
              "      background-color: #434B5C;\n",
              "      box-shadow: 0px 1px 3px 1px rgba(0, 0, 0, 0.15);\n",
              "      filter: drop-shadow(0px 1px 2px rgba(0, 0, 0, 0.3));\n",
              "      fill: #FFFFFF;\n",
              "    }\n",
              "  </style>\n",
              "\n",
              "      <script>\n",
              "        const buttonEl =\n",
              "          document.querySelector('#df-18fce512-8f78-4f8e-9508-627a3d12b902 button.colab-df-convert');\n",
              "        buttonEl.style.display =\n",
              "          google.colab.kernel.accessAllowed ? 'block' : 'none';\n",
              "\n",
              "        async function convertToInteractive(key) {\n",
              "          const element = document.querySelector('#df-18fce512-8f78-4f8e-9508-627a3d12b902');\n",
              "          const dataTable =\n",
              "            await google.colab.kernel.invokeFunction('convertToInteractive',\n",
              "                                                     [key], {});\n",
              "          if (!dataTable) return;\n",
              "\n",
              "          const docLinkHtml = 'Like what you see? Visit the ' +\n",
              "            '<a target=\"_blank\" href=https://colab.research.google.com/notebooks/data_table.ipynb>data table notebook</a>'\n",
              "            + ' to learn more about interactive tables.';\n",
              "          element.innerHTML = '';\n",
              "          dataTable['output_type'] = 'display_data';\n",
              "          await google.colab.output.renderOutput(dataTable, element);\n",
              "          const docLink = document.createElement('div');\n",
              "          docLink.innerHTML = docLinkHtml;\n",
              "          element.appendChild(docLink);\n",
              "        }\n",
              "      </script>\n",
              "    </div>\n",
              "  </div>\n",
              "  "
            ]
          },
          "metadata": {},
          "execution_count": 8
        }
      ]
    },
    {
      "cell_type": "markdown",
      "metadata": {
        "id": "hw_4eweB-YQk"
      },
      "source": [
        "# Проверка гипотез"
      ]
    },
    {
      "cell_type": "markdown",
      "metadata": {
        "id": "RCE_Wxrw-YQk"
      },
      "source": [
        "Перед вами гипотезы из прошлого домашнего задания. Вы уже научились проверять утверждения визуально. Теперь используйте подходящий статистический критерий, чтобы окончательно доказать или опровергнуть гипотезы."
      ]
    },
    {
      "cell_type": "markdown",
      "source": [
        "# Правда ли женщины в среднем имеют более высокую зарплату, чем мужчины?"
      ],
      "metadata": {
        "id": "0Rs0GAwBOeWb"
      }
    },
    {
      "cell_type": "markdown",
      "source": [
        "\n",
        "\n",
        "> Создаем функцию для визуализации на одном графике необходимых данных\n",
        "\n",
        "\n"
      ],
      "metadata": {
        "id": "gim1t9IOfnaM"
      }
    },
    {
      "cell_type": "code",
      "source": [
        "def visual(a,b,c,d): # сделаем функцию для визуализации a = 1 параметр, b = 2 параметр\n",
        "    type_c = data.loc[data[b] == c]  \n",
        "    type_d = data.loc[data[b] == d] \n",
        "    \n",
        "    bins = 20\n",
        "    sns.histplot(type_c[a], bins = bins, alpha = 0.9, label = c, edgecolor = 'black')\n",
        "    sns.histplot(type_d[a], bins = bins, alpha = 0.4, label = d, color = 'orange')\n",
        "    plt.legend(loc='upper right');"
      ],
      "metadata": {
        "id": "CqJ6ML8-flfh"
      },
      "execution_count": null,
      "outputs": []
    },
    {
      "cell_type": "markdown",
      "source": [
        "\n",
        "> Построим на распределение зарплат у мужчин и женщин на одном графике\n",
        "\n"
      ],
      "metadata": {
        "id": "vr3BpvAUOHym"
      }
    },
    {
      "cell_type": "code",
      "source": [
        "visual('salary', 'sex', 0, 1)"
      ],
      "metadata": {
        "colab": {
          "base_uri": "https://localhost:8080/",
          "height": 286
        },
        "id": "qqlBPb84SJJt",
        "outputId": "79ae0e6a-4656-4f98-ac35-31b75458f362"
      },
      "execution_count": null,
      "outputs": [
        {
          "output_type": "display_data",
          "data": {
            "text/plain": [
              "<Figure size 432x288 with 1 Axes>"
            ],
            "image/png": "[encoded data removed]"
          },
          "metadata": {}
        }
      ]
    },
    {
      "cell_type": "markdown",
      "source": [
        "\n",
        "\n",
        "> Наблюдаем не нормальные распределения. Применяем тест Манна-Уитни\n",
        "\n"
      ],
      "metadata": {
        "id": "neVX44KDHynU"
      }
    },
    {
      "cell_type": "code",
      "source": [
        "from scipy.stats.mstats_basic import mannwhitneyu\n",
        "women = data.loc[data['sex'] == 0].salary\n",
        "men   = data.loc[data['sex'] == 1].salary\n",
        "stat, p_value = mannwhitneyu(women, men)\n",
        "alpha = 0.05\n",
        "if p_value > alpha:\n",
        "  print('Одинаковые распределения, не отвeргaем H0')\n",
        "else:  \n",
        "  print('Разные распределения, отвeргaем H0')"
      ],
      "metadata": {
        "colab": {
          "base_uri": "https://localhost:8080/"
        },
        "id": "fdU4nJv3C5Q_",
        "outputId": "ae18d058-f690-415c-c37a-f9edc1002e0e"
      },
      "execution_count": null,
      "outputs": [
        {
          "output_type": "stream",
          "name": "stdout",
          "text": [
            "Разные распределения, отвeргaем H0\n"
          ]
        }
      ]
    },
    {
      "cell_type": "markdown",
      "source": [
        "Как итог мы доказали, что распределения зарплат у мужчин и женщин статистически различаются. И женщины зарабатывают меньше мужчин."
      ],
      "metadata": {
        "id": "orOxTHeCXYCs"
      }
    },
    {
      "cell_type": "markdown",
      "source": [
        "# Правда ли, что инженеры (Engineer) зарабатывают в среднем больше, чем люди из сферы развлечений (Entertainment)?"
      ],
      "metadata": {
        "id": "W1nT1kgvZKZH"
      }
    },
    {
      "cell_type": "code",
      "source": [
        "visual('salary','profession','Engineer','Entertainment')"
      ],
      "metadata": {
        "colab": {
          "base_uri": "https://localhost:8080/",
          "height": 285
        },
        "id": "w1gSiarSe7Uf",
        "outputId": "0a848a5c-f021-47a1-9012-dabe511d55b2"
      },
      "execution_count": null,
      "outputs": [
        {
          "output_type": "display_data",
          "data": {
            "text/plain": [
              "<Figure size 432x288 with 1 Axes>"
            ],
            "image/png": "[encoded data removed]"
          },
          "metadata": {}
        }
      ]
    },
    {
      "cell_type": "markdown",
      "source": [
        "\n",
        "\n",
        "> Распределения напоминаю нормальные. Проверим на нормальность.\n",
        "\n"
      ],
      "metadata": {
        "id": "a1kkaqUhIO4a"
      }
    },
    {
      "cell_type": "code",
      "source": [
        "Engineer      = data.loc[data['profession'] == 'Engineer'].salary\n",
        "Entertainment = data.loc[data['profession'] == 'Entertainment'].salary\n",
        "stat, p_value = stats.shapiro(Engineer)\n",
        "alpha = 0.05\n",
        "if p_value > alpha:\n",
        "  print('Распределение нормальное')\n",
        "else:  \n",
        "  print('Распределение не нормальное')\n",
        "stat, p_value = stats.shapiro(Entertainment)\n",
        "alpha = 0.05\n",
        "if p_value > alpha:\n",
        "  print('Распределение нормальное')\n",
        "else:  \n",
        "  print('Распределение не нормальное')"
      ],
      "metadata": {
        "id": "LK1abp3pIOkh"
      },
      "execution_count": null,
      "outputs": []
    },
    {
      "cell_type": "markdown",
      "source": [
        "\n",
        "\n",
        "> Оба распределения не являются нормальными, применим снова тест Манна-Уитни\n",
        "\n"
      ],
      "metadata": {
        "id": "E185h5OEJyxg"
      }
    },
    {
      "cell_type": "code",
      "source": [
        "from scipy.stats.mstats_basic import mannwhitneyu\n",
        "Engineer = data.loc[data['profession'] == 'Engineer'].salary\n",
        "Entertainment = data.loc[data['profession'] == 'Entertainment'].salary\n",
        "stat, p_value = mannwhitneyu(Engineer, Entertainment)\n",
        "alpha = 0.05\n",
        "if p_value > alpha:\n",
        "  print('Одинаковые распределения, не отвeргaем H0')\n",
        "else:  \n",
        "  print('Разные распределения, отвeргaем H0')"
      ],
      "metadata": {
        "colab": {
          "base_uri": "https://localhost:8080/"
        },
        "id": "MGSKu8PXBPDr",
        "outputId": "ed066c1e-479e-4342-ebc0-35aecf4d3233"
      },
      "execution_count": null,
      "outputs": [
        {
          "output_type": "stream",
          "name": "stdout",
          "text": [
            "Разные распределения, отвeргaем H0\n"
          ]
        }
      ]
    },
    {
      "cell_type": "markdown",
      "source": [
        "Как итог мы доказали что различия между зарплатами статистически значимо. Инженеры зарабатывают меньше, чем люди из сферы развлечения."
      ],
      "metadata": {
        "id": "1SZqVyD9KHNM"
      }
    },
    {
      "cell_type": "markdown",
      "source": [
        "# Правда ли, что те, у кого больше трёх детей, зарабатывают в среднем больше, чем те, у кого их меньше или трое?"
      ],
      "metadata": {
        "id": "Fi9t8CznKq0x"
      }
    },
    {
      "cell_type": "code",
      "source": [
        "data['number_children'] = pd.cut(data.children, \n",
        "       bins=[-1, 3.0, 9.0], \n",
        "       labels=['less_3', 'more_3']) # добавляем столбец количества детей number_children     "
      ],
      "metadata": {
        "id": "WGJFb8GmJ8DD"
      },
      "execution_count": null,
      "outputs": []
    },
    {
      "cell_type": "markdown",
      "source": [
        "\n",
        "> Посмотрим визуально на распределение\n",
        "\n"
      ],
      "metadata": {
        "id": "CwT9a4qpLJZS"
      }
    },
    {
      "cell_type": "code",
      "source": [
        "visual('salary', 'number_children', 'less_3', 'more_3')"
      ],
      "metadata": {
        "colab": {
          "base_uri": "https://localhost:8080/",
          "height": 285
        },
        "id": "l7KUHsTaLI6b",
        "outputId": "64ff9931-bb12-4e6e-8401-1af292880d99"
      },
      "execution_count": null,
      "outputs": [
        {
          "output_type": "display_data",
          "data": {
            "text/plain": [
              "<Figure size 432x288 with 1 Axes>"
            ],
            "image/png": "[encoded data removed]"
          },
          "metadata": {}
        }
      ]
    },
    {
      "cell_type": "markdown",
      "source": [
        "\n",
        "\n",
        "> Распределения не являются нормальными, так же применим тест Манна-Уитни\n",
        "\n"
      ],
      "metadata": {
        "id": "0Ytt1j9sLqlj"
      }
    },
    {
      "cell_type": "code",
      "source": [
        "from scipy.stats.mstats_basic import mannwhitneyu\n",
        "less_3 = data.loc[data['number_children'] == 'less_3'].salary\n",
        "more_3 = data.loc[data['number_children'] == 'more_3'].salary\n",
        "stat, p_value = mannwhitneyu(less_3, more_3)\n",
        "alpha = 0.05\n",
        "if p_value > alpha:\n",
        "  print('Одинаковые распределения, не отвeргaем H0')\n",
        "else:  \n",
        "  print('Разные распределения, отвeргaем H0')"
      ],
      "metadata": {
        "colab": {
          "base_uri": "https://localhost:8080/"
        },
        "id": "LMLH1T8YFEhT",
        "outputId": "e5f93162-e93c-4b4a-bb05-423e3d633ace"
      },
      "execution_count": null,
      "outputs": [
        {
          "output_type": "stream",
          "name": "stdout",
          "text": [
            "Разные распределения, отвeргaем H0\n"
          ]
        }
      ]
    },
    {
      "cell_type": "markdown",
      "source": [
        "Различия между зарплатами снова статистически значимо. Люди у которых больше 3 детей, в среднем зарабатывают больше, чем те у кого меньше 3 детей."
      ],
      "metadata": {
        "id": "dWnVoR8QMk_Y"
      }
    },
    {
      "cell_type": "markdown",
      "source": [
        "#Правда ли, что художники (Artist) живут в домах, которые в среднем дороже или дешевле, чем дома адвокатов (Lawyer)?"
      ],
      "metadata": {
        "id": "0wrYaNzSM4jS"
      }
    },
    {
      "cell_type": "markdown",
      "source": [
        "\n",
        "\n",
        "> Посмотрим визуально\n",
        "\n"
      ],
      "metadata": {
        "id": "jEQL1h4FM_mA"
      }
    },
    {
      "cell_type": "code",
      "source": [
        "visual('home_cost', 'profession', 'Artist', 'Lawyer')"
      ],
      "metadata": {
        "colab": {
          "base_uri": "https://localhost:8080/",
          "height": 285
        },
        "id": "rZTfhsxENFbO",
        "outputId": "7190669f-de57-45c8-b364-06cd309bec11"
      },
      "execution_count": null,
      "outputs": [
        {
          "output_type": "display_data",
          "data": {
            "text/plain": [
              "<Figure size 432x288 with 1 Axes>"
            ],
            "image/png": "[encoded data removed]"
          },
          "metadata": {}
        }
      ]
    },
    {
      "cell_type": "markdown",
      "source": [
        "\n",
        "\n",
        "> Проверим распредления на нормальность\n",
        "\n"
      ],
      "metadata": {
        "id": "ptHZkB55NRmN"
      }
    },
    {
      "cell_type": "code",
      "source": [
        "Artist = data.loc[data['profession'] == 'Artist'].home_cost\n",
        "Lawyer = data.loc[data['profession'] == 'Lawyer'].home_cost\n",
        "stat, p_value = stats.shapiro(Artist)\n",
        "alpha = 0.05\n",
        "if p_value > alpha:\n",
        "  print('Распределение нормальное')\n",
        "else:  \n",
        "  print('Распределение не нормальное')\n",
        "stat, p_value = stats.shapiro(Lawyer)\n",
        "alpha = 0.05\n",
        "if p_value > alpha:\n",
        "  print('Распределение нормальное')\n",
        "else:  \n",
        "  print('Распределение не нормальное')"
      ],
      "metadata": {
        "colab": {
          "base_uri": "https://localhost:8080/"
        },
        "id": "g7HqNYR8NPaa",
        "outputId": "afaae762-a83d-4191-9296-d1ef811ccc9e"
      },
      "execution_count": null,
      "outputs": [
        {
          "output_type": "stream",
          "name": "stdout",
          "text": [
            "Распределение нормальное\n",
            "Распределение нормальное\n"
          ]
        }
      ]
    },
    {
      "cell_type": "markdown",
      "source": [
        "\n",
        "\n",
        "> Оба распределения нормальные. Можно применять t-тест\n"
      ],
      "metadata": {
        "id": "FtZpdbyZM_bB"
      }
    },
    {
      "cell_type": "code",
      "source": [
        "Artist = data.loc[data['profession'] == 'Artist'].home_cost\n",
        "Lawyer = data.loc[data['profession'] == 'Lawyer'].home_cost\n",
        "stat, p_value = stats.ttest_ind(Artist, Lawyer)\n",
        "alpha = 0.05\n",
        "if p_value > alpha:\n",
        "  print('Одинаковые распределения, не отвeргaем H0')\n",
        "else:  \n",
        "  print('Разные распределения, отвeргaем H0')"
      ],
      "metadata": {
        "colab": {
          "base_uri": "https://localhost:8080/"
        },
        "id": "dDNX-9-GMkcl",
        "outputId": "be8879ab-4fd3-42a7-c722-a28118bbf26a"
      },
      "execution_count": null,
      "outputs": [
        {
          "output_type": "stream",
          "name": "stdout",
          "text": [
            "Разные распределения, отвeргaем H0\n"
          ]
        }
      ]
    },
    {
      "cell_type": "markdown",
      "source": [
        "\n",
        "\n",
        "> Различие между стоимостью домов у адвокатов и художников статистически значимо. Художники в среднем живут в домах дешевле, чем в дома адвокатов\n",
        "\n"
      ],
      "metadata": {
        "id": "GMlVEXD7f-XS"
      }
    },
    {
      "cell_type": "markdown",
      "source": [
        "# Правда ли, что недвижимость тех, кто когда-либо был в браке, в среднем дороже, чем у тех, кто никогда не был в браке?"
      ],
      "metadata": {
        "id": "9TwzRrdSgb6m"
      }
    },
    {
      "cell_type": "markdown",
      "source": [
        "\n",
        "\n",
        "> Визуализируем графики\n",
        "\n"
      ],
      "metadata": {
        "id": "lPeWNMHxgfKS"
      }
    },
    {
      "cell_type": "code",
      "source": [
        "visual('home_cost', 'was_married', 1, 0 )"
      ],
      "metadata": {
        "colab": {
          "base_uri": "https://localhost:8080/",
          "height": 285
        },
        "id": "nDm_h6CZf9D-",
        "outputId": "714ce91f-9a2e-4f1e-d8b1-05573031d5c2"
      },
      "execution_count": null,
      "outputs": [
        {
          "output_type": "display_data",
          "data": {
            "text/plain": [
              "<Figure size 432x288 with 1 Axes>"
            ],
            "image/png": "[encoded data removed]"
          },
          "metadata": {}
        }
      ]
    },
    {
      "cell_type": "markdown",
      "source": [
        "\n",
        "\n",
        "> Проверим на нормальность\n",
        "\n"
      ],
      "metadata": {
        "id": "QWbdawNGg5r9"
      }
    },
    {
      "cell_type": "code",
      "source": [
        "not_married = data.loc[data['was_married'] == 0].home_cost\n",
        "was_married = data.loc[data['was_married'] == 1].home_cost\n",
        "stat, p_value = stats.shapiro(not_married)\n",
        "alpha = 0.05\n",
        "if p_value > alpha:\n",
        "  print('Распределение нормальное')\n",
        "else:  \n",
        "  print('Распределение не нормальное')\n",
        "stat, p_value = stats.shapiro(was_married)\n",
        "alpha = 0.05\n",
        "if p_value > alpha:\n",
        "  print('Распределение нормальное')\n",
        "else:  \n",
        "  print('Распределение не нормальное')"
      ],
      "metadata": {
        "colab": {
          "base_uri": "https://localhost:8080/"
        },
        "id": "ExD6fFRrg3J0",
        "outputId": "92e3fb0d-0d91-40c3-f4e8-0119685959a7"
      },
      "execution_count": null,
      "outputs": [
        {
          "output_type": "stream",
          "name": "stdout",
          "text": [
            "Распределение нормальное\n",
            "Распределение не нормальное\n"
          ]
        },
        {
          "output_type": "stream",
          "name": "stderr",
          "text": [
            "/usr/local/lib/python3.7/dist-packages/scipy/stats/morestats.py:1676: UserWarning: p-value may not be accurate for N > 5000.\n",
            "  warnings.warn(\"p-value may not be accurate for N > 5000.\")\n"
          ]
        }
      ]
    },
    {
      "cell_type": "code",
      "source": [
        "data.loc[data['was_married'] == 1].shape # заметим, что что женатых людей около 5000, воспользуемся в этот раз bootstrap"
      ],
      "metadata": {
        "colab": {
          "base_uri": "https://localhost:8080/"
        },
        "id": "7FbWLudmh-R6",
        "outputId": "8e29d61e-6ddf-4bbf-d0b3-5b60356fafb5"
      },
      "execution_count": null,
      "outputs": [
        {
          "output_type": "execute_result",
          "data": {
            "text/plain": [
              "(5042, 9)"
            ]
          },
          "metadata": {},
          "execution_count": 39
        }
      ]
    },
    {
      "cell_type": "code",
      "source": [
        "from tqdm import tqdm\n",
        "boot = []\n",
        "for _ in tqdm(range(1000)):\n",
        "    boot_mean = data.sample(frac = 1, replace = True).groupby('was_married').home_cost.mean()\n",
        "    boot.append(boot_mean)\n",
        "boot = pd.DataFrame(boot)\n",
        "boot.plot(kind = 'density');"
      ],
      "metadata": {
        "colab": {
          "base_uri": "https://localhost:8080/",
          "height": 299
        },
        "id": "Kmg3p-fah3vj",
        "outputId": "20aecd0e-5522-4df7-d978-2db8f6ef115c"
      },
      "execution_count": null,
      "outputs": [
        {
          "output_type": "stream",
          "name": "stderr",
          "text": [
            "100%|██████████| 1000/1000 [00:02<00:00, 421.55it/s]\n"
          ]
        },
        {
          "output_type": "display_data",
          "data": {
            "text/plain": [
              "<Figure size 432x288 with 1 Axes>"
            ],
            "image/png": "[encoded data removed]"
          },
          "metadata": {}
        }
      ]
    },
    {
      "cell_type": "code",
      "source": [
        "stat, p_value = stats.ttest_ind(boot[1], boot[0]) # t-test\n",
        "alpha = 0.05\n",
        "if p_value > alpha:\n",
        "  print('Одинаковые распределения, не отвeргaем H0')\n",
        "else:  \n",
        "  print('Разные распределения, отвeргaем H0')"
      ],
      "metadata": {
        "colab": {
          "base_uri": "https://localhost:8080/"
        },
        "id": "VVfbV2zkjS7R",
        "outputId": "7eca3570-9bf8-43d4-98df-fad838c750b2"
      },
      "execution_count": null,
      "outputs": [
        {
          "output_type": "stream",
          "name": "stdout",
          "text": [
            "Разные распределения, отвeргaем H0\n"
          ]
        }
      ]
    },
    {
      "cell_type": "markdown",
      "source": [
        "Опять таки различие статистически значимо, недвижимость тех, кто когда-либо был в браке, в среднем дешевле, чем у тех, кто никогда не был в браке."
      ],
      "metadata": {
        "id": "VwHJAJmNklko"
      }
    },
    {
      "cell_type": "markdown",
      "source": [
        "# Правда ли, что мужчины в среднем чаще бывают в браке, чем женщины?\n"
      ],
      "metadata": {
        "id": "qrA8PIbNlGxw"
      }
    },
    {
      "cell_type": "code",
      "source": [
        "sex_was_married = data.groupby(['sex', 'was_married'], as_index=False) \\\n",
        "    .agg({'home_cost':'count'}) \\\n",
        "    .pivot(index = 'sex', columns='was_married', values='home_cost') # Построим таблицу сопряженности\n",
        "sex_was_married"
      ],
      "metadata": {
        "colab": {
          "base_uri": "https://localhost:8080/",
          "height": 143
        },
        "id": "sUctHjfekUvo",
        "outputId": "5d550d66-942f-4f6c-9d72-c6c9857373f1"
      },
      "execution_count": null,
      "outputs": [
        {
          "output_type": "execute_result",
          "data": {
            "text/plain": [
              "was_married    0     1\n",
              "sex                   \n",
              "0            668  1355\n",
              "1            277  3687"
            ],
            "text/html": [
              "\n",
              "  <div id=\"df-1d127d23-ed21-4743-a687-4be984f92402\">\n",
              "    <div class=\"colab-df-container\">\n",
              "      <div>\n",
              "<style scoped>\n",
              "    .dataframe tbody tr th:only-of-type {\n",
              "        vertical-align: middle;\n",
              "    }\n",
              "\n",
              "    .dataframe tbody tr th {\n",
              "        vertical-align: top;\n",
              "    }\n",
              "\n",
              "    .dataframe thead th {\n",
              "        text-align: right;\n",
              "    }\n",
              "</style>\n",
              "<table border=\"1\" class=\"dataframe\">\n",
              "  <thead>\n",
              "    <tr style=\"text-align: right;\">\n",
              "      <th>was_married</th>\n",
              "      <th>0</th>\n",
              "      <th>1</th>\n",
              "    </tr>\n",
              "    <tr>\n",
              "      <th>sex</th>\n",
              "      <th></th>\n",
              "      <th></th>\n",
              "    </tr>\n",
              "  </thead>\n",
              "  <tbody>\n",
              "    <tr>\n",
              "      <th>0</th>\n",
              "      <td>668</td>\n",
              "      <td>1355</td>\n",
              "    </tr>\n",
              "    <tr>\n",
              "      <th>1</th>\n",
              "      <td>277</td>\n",
              "      <td>3687</td>\n",
              "    </tr>\n",
              "  </tbody>\n",
              "</table>\n",
              "</div>\n",
              "      <button class=\"colab-df-convert\" onclick=\"convertToInteractive('df-1d127d23-ed21-4743-a687-4be984f92402')\"\n",
              "              title=\"Convert this dataframe to an interactive table.\"\n",
              "              style=\"display:none;\">\n",
              "        \n",
              "  <svg xmlns=\"http://www.w3.org/2000/svg\" height=\"24px\"viewBox=\"0 0 24 24\"\n",
              "       width=\"24px\">\n",
              "    <path d=\"M0 0h24v24H0V0z\" fill=\"none\"/>\n",
              "    <path d=\"M18.56 5.44l.94 2.06.94-2.06 2.06-.94-2.06-.94-.94-2.06-.94 2.06-2.06.94zm-11 1L8.5 8.5l.94-2.06 2.06-.94-2.06-.94L8.5 2.5l-.94 2.06-2.06.94zm10 10l.94 2.06.94-2.06 2.06-.94-2.06-.94-.94-2.06-.94 2.06-2.06.94z\"/><path d=\"M17.41 7.96l-1.37-1.37c-.4-.4-.92-.59-1.43-.59-.52 0-1.04.2-1.43.59L10.3 9.45l-7.72 7.72c-.78.78-.78 2.05 0 2.83L4 21.41c.39.39.9.59 1.41.59.51 0 1.02-.2 1.41-.59l7.78-7.78 2.81-2.81c.8-.78.8-2.07 0-2.86zM5.41 20L4 18.59l7.72-7.72 1.47 1.35L5.41 20z\"/>\n",
              "  </svg>\n",
              "      </button>\n",
              "      \n",
              "  <style>\n",
              "    .colab-df-container {\n",
              "      display:flex;\n",
              "      flex-wrap:wrap;\n",
              "      gap: 12px;\n",
              "    }\n",
              "\n",
              "    .colab-df-convert {\n",
              "      background-color: #E8F0FE;\n",
              "      border: none;\n",
              "      border-radius: 50%;\n",
              "      cursor: pointer;\n",
              "      display: none;\n",
              "      fill: #1967D2;\n",
              "      height: 32px;\n",
              "      padding: 0 0 0 0;\n",
              "      width: 32px;\n",
              "    }\n",
              "\n",
              "    .colab-df-convert:hover {\n",
              "      background-color: #E2EBFA;\n",
              "      box-shadow: 0px 1px 2px rgba(60, 64, 67, 0.3), 0px 1px 3px 1px rgba(60, 64, 67, 0.15);\n",
              "      fill: #174EA6;\n",
              "    }\n",
              "\n",
              "    [theme=dark] .colab-df-convert {\n",
              "      background-color: #3B4455;\n",
              "      fill: #D2E3FC;\n",
              "    }\n",
              "\n",
              "    [theme=dark] .colab-df-convert:hover {\n",
              "      background-color: #434B5C;\n",
              "      box-shadow: 0px 1px 3px 1px rgba(0, 0, 0, 0.15);\n",
              "      filter: drop-shadow(0px 1px 2px rgba(0, 0, 0, 0.3));\n",
              "      fill: #FFFFFF;\n",
              "    }\n",
              "  </style>\n",
              "\n",
              "      <script>\n",
              "        const buttonEl =\n",
              "          document.querySelector('#df-1d127d23-ed21-4743-a687-4be984f92402 button.colab-df-convert');\n",
              "        buttonEl.style.display =\n",
              "          google.colab.kernel.accessAllowed ? 'block' : 'none';\n",
              "\n",
              "        async function convertToInteractive(key) {\n",
              "          const element = document.querySelector('#df-1d127d23-ed21-4743-a687-4be984f92402');\n",
              "          const dataTable =\n",
              "            await google.colab.kernel.invokeFunction('convertToInteractive',\n",
              "                                                     [key], {});\n",
              "          if (!dataTable) return;\n",
              "\n",
              "          const docLinkHtml = 'Like what you see? Visit the ' +\n",
              "            '<a target=\"_blank\" href=https://colab.research.google.com/notebooks/data_table.ipynb>data table notebook</a>'\n",
              "            + ' to learn more about interactive tables.';\n",
              "          element.innerHTML = '';\n",
              "          dataTable['output_type'] = 'display_data';\n",
              "          await google.colab.output.renderOutput(dataTable, element);\n",
              "          const docLink = document.createElement('div');\n",
              "          docLink.innerHTML = docLinkHtml;\n",
              "          element.appendChild(docLink);\n",
              "        }\n",
              "      </script>\n",
              "    </div>\n",
              "  </div>\n",
              "  "
            ]
          },
          "metadata": {},
          "execution_count": 74
        }
      ]
    },
    {
      "cell_type": "code",
      "source": [
        "chi2, p_value, dof, ex = stats.chi2_contingency(sex_was_married) # так как у нас 2 категориальные переменные, применяем критерий Хи-квадрат\n",
        "alpha = 0.05\n",
        "if p_value > alpha:\n",
        "  print('Переменные зависимые')\n",
        "else:  \n",
        "  print('Переменные не зависимые')"
      ],
      "metadata": {
        "colab": {
          "base_uri": "https://localhost:8080/"
        },
        "id": "RjXpXo6xl5ua",
        "outputId": "af2782dd-5fd9-444c-c339-beb990408e4a"
      },
      "execution_count": null,
      "outputs": [
        {
          "output_type": "stream",
          "name": "stdout",
          "text": [
            "Переменные не зависимые\n"
          ]
        }
      ]
    },
    {
      "cell_type": "markdown",
      "source": [
        "\n",
        "\n",
        "> Да, в нашей выборке мужчины в среднем чаще в браке, чем женщины, однако это различие статистически не значимо.\n",
        "\n"
      ],
      "metadata": {
        "id": "TKlw_Rm7wlBH"
      }
    },
    {
      "cell_type": "markdown",
      "source": [
        "# Правда ли, что женщины с зарплатой выше медианной в среднем более счастливые, чем мужчины с зарплатой, которая выше средней?"
      ],
      "metadata": {
        "id": "M1tgahP8w7Yk"
      }
    },
    {
      "cell_type": "code",
      "source": [
        "women_happy = data.query('sex==0 and salary > salary.median()').happyness\n",
        "men_happy = data.query('sex==1 and salary > salary.mean()').happyness"
      ],
      "metadata": {
        "id": "pyX5mysVmjp-"
      },
      "execution_count": null,
      "outputs": []
    },
    {
      "cell_type": "code",
      "source": [
        "bins = 30\n",
        "sns.histplot(women_happy, bins = bins, alpha = 0.9, label = 'women', edgecolor = 'black')\n",
        "sns.histplot(men_happy, bins = bins, alpha = 0.4, label = 'men', color = 'orange')\n",
        "plt.legend(loc='upper right');"
      ],
      "metadata": {
        "colab": {
          "base_uri": "https://localhost:8080/",
          "height": 285
        },
        "id": "p4Ud6ge0x4eg",
        "outputId": "240a4004-8a5b-47e5-9130-9df694f393f8"
      },
      "execution_count": null,
      "outputs": [
        {
          "output_type": "display_data",
          "data": {
            "text/plain": [
              "<Figure size 432x288 with 1 Axes>"
            ],
            "image/png": "[encoded data removed]"
          },
          "metadata": {}
        }
      ]
    },
    {
      "cell_type": "code",
      "source": [
        "stat, p_value = stats.shapiro(women_happy)\n",
        "alpha = 0.05\n",
        "if p_value > alpha:\n",
        "  print('Распределение нормальное')\n",
        "else:  \n",
        "  print('Распределение не нормальное')\n",
        "stat, p_value = stats.shapiro(men_happy)\n",
        "alpha = 0.05\n",
        "if p_value > alpha:\n",
        "  print('Распределение нормальное')\n",
        "else:  \n",
        "  print('Распределение не нормальное')"
      ],
      "metadata": {
        "colab": {
          "base_uri": "https://localhost:8080/"
        },
        "id": "YlPiXsvbyMxX",
        "outputId": "d70384d1-1ca6-4773-d770-961557467d47"
      },
      "execution_count": null,
      "outputs": [
        {
          "output_type": "stream",
          "name": "stdout",
          "text": [
            "Распределение нормальное\n",
            "Распределение не нормальное\n"
          ]
        }
      ]
    },
    {
      "cell_type": "code",
      "source": [
        "stat, p_value = mannwhitneyu(women_happy, men_happy) # применим тест Манна-Уитни\n",
        "alpha = 0.05\n",
        "if p_value > alpha:\n",
        "  print('Одинаковые распределения, не отвeргaем H0')\n",
        "else:  \n",
        "  print('Разные распределения, отвeргaем H0')\n"
      ],
      "metadata": {
        "colab": {
          "base_uri": "https://localhost:8080/"
        },
        "id": "6FInv4Op0M72",
        "outputId": "353310fa-a4aa-489f-e821-e05b0cf577b1"
      },
      "execution_count": null,
      "outputs": [
        {
          "output_type": "stream",
          "name": "stdout",
          "text": [
            "Разные распределения, отвeргaем H0\n"
          ]
        }
      ]
    },
    {
      "cell_type": "markdown",
      "source": [
        "Женщины с зарплатой выше медианной в среднем менее счастливые, чем мужчины с зарплатой, которая выше средней. Это различие статистически значимо"
      ],
      "metadata": {
        "id": "RejvJ4nL1dSa"
      }
    },
    {
      "cell_type": "code",
      "source": [
        ""
      ],
      "metadata": {
        "id": "fiRTmoUl1jG9"
      },
      "execution_count": null,
      "outputs": []
    }
  ],
  "metadata": {
    "kernelspec": {
      "display_name": "Python 3",
      "language": "python",
      "name": "python3"
    },
    "language_info": {
      "codemirror_mode": {
        "name": "ipython",
        "version": 3
      },
      "file_extension": ".py",
      "mimetype": "text/x-python",
      "name": "python",
      "nbconvert_exporter": "python",
      "pygments_lexer": "ipython3",
      "version": "3.8.5"
    },
    "toc": {
      "base_numbering": 1,
      "nav_menu": {},
      "number_sections": true,
      "sideBar": true,
      "skip_h1_title": false,
      "title_cell": "Table of Contents",
      "title_sidebar": "Contents",
      "toc_cell": false,
      "toc_position": {},
      "toc_section_display": true,
      "toc_window_display": false
    },
    "colab": {
      "name": "hw 3.ipynb",
      "provenance": [],
      "collapsed_sections": [
        "0G5pic5f-YQi"
      ]
    }
  },
  "nbformat": 4,
  "nbformat_minor": 0
}