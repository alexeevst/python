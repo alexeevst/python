{
 "cells": [
  {
   "cell_type": "markdown",
   "metadata": {
    "id": "5UB_fM1W7ZjY"
   },
   "source": [
    "## Импорт библиотек"
   ]
  },
  {
   "cell_type": "code",
   "execution_count": 1,
   "metadata": {
    "ExecuteTime": {
     "end_time": "2022-07-05T16:44:08.153026Z",
     "start_time": "2022-07-05T16:44:05.216287Z"
    },
    "id": "Tt-EyJ7C7ZjZ"
   },
   "outputs": [],
   "source": [
    "import numpy as np\n",
    "import pandas as pd\n",
    "import scipy\n",
    "import matplotlib.pyplot as plt\n",
    "import seaborn as sns\n",
    "sns.set_theme()\n",
    "from scipy import stats"
   ]
  },
  {
   "cell_type": "markdown",
   "metadata": {
    "id": "CQS2IUKt7Zjb"
   },
   "source": [
    "## Импорт данных"
   ]
  },
  {
   "cell_type": "code",
   "execution_count": 2,
   "metadata": {
    "ExecuteTime": {
     "end_time": "2022-07-05T16:44:12.240172Z",
     "start_time": "2022-07-05T16:44:08.156025Z"
    },
    "colab": {
     "base_uri": "https://localhost:8080/"
    },
    "executionInfo": {
     "elapsed": 697,
     "status": "ok",
     "timestamp": 1653898396065,
     "user": {
      "displayName": "Станислав Алексеев",
      "userId": "03911901587482254567"
     },
     "user_tz": -240
    },
    "id": "x3mUclK77Zjb",
    "outputId": "00502a7b-ca29-4dfc-eb53-f107a3206203"
   },
   "outputs": [
    {
     "name": "stdout",
     "output_type": "stream",
     "text": [
      "Размеры датасета (6000, 10)\n"
     ]
    },
    {
     "data": {
      "text/html": [
       "<div>\n",
       "<style scoped>\n",
       "    .dataframe tbody tr th:only-of-type {\n",
       "        vertical-align: middle;\n",
       "    }\n",
       "\n",
       "    .dataframe tbody tr th {\n",
       "        vertical-align: top;\n",
       "    }\n",
       "\n",
       "    .dataframe thead th {\n",
       "        text-align: right;\n",
       "    }\n",
       "</style>\n",
       "<table border=\"1\" class=\"dataframe\">\n",
       "  <thead>\n",
       "    <tr style=\"text-align: right;\">\n",
       "      <th></th>\n",
       "      <th>id</th>\n",
       "      <th>was_married</th>\n",
       "      <th>children</th>\n",
       "      <th>salary</th>\n",
       "      <th>sex</th>\n",
       "      <th>age</th>\n",
       "      <th>profession</th>\n",
       "      <th>home_cost</th>\n",
       "      <th>drive_info</th>\n",
       "      <th>happyness</th>\n",
       "    </tr>\n",
       "  </thead>\n",
       "  <tbody>\n",
       "    <tr>\n",
       "      <th>0</th>\n",
       "      <td>0</td>\n",
       "      <td>1</td>\n",
       "      <td>4.0</td>\n",
       "      <td>4.420530e+07</td>\n",
       "      <td>1</td>\n",
       "      <td>82.0</td>\n",
       "      <td>Engineer</td>\n",
       "      <td>1.003674e+07</td>\n",
       "      <td>NaN</td>\n",
       "      <td>0.727499</td>\n",
       "    </tr>\n",
       "    <tr>\n",
       "      <th>1</th>\n",
       "      <td>1</td>\n",
       "      <td>1</td>\n",
       "      <td>2.0</td>\n",
       "      <td>1.737490e+08</td>\n",
       "      <td>1</td>\n",
       "      <td>32.0</td>\n",
       "      <td>Doctor</td>\n",
       "      <td>1.014051e+07</td>\n",
       "      <td>0.0</td>\n",
       "      <td>0.383234</td>\n",
       "    </tr>\n",
       "    <tr>\n",
       "      <th>2</th>\n",
       "      <td>2</td>\n",
       "      <td>1</td>\n",
       "      <td>6.0</td>\n",
       "      <td>2.489055e+08</td>\n",
       "      <td>1</td>\n",
       "      <td>14.0</td>\n",
       "      <td>Entertainment</td>\n",
       "      <td>1.043318e+07</td>\n",
       "      <td>NaN</td>\n",
       "      <td>0.432142</td>\n",
       "    </tr>\n",
       "    <tr>\n",
       "      <th>3</th>\n",
       "      <td>3</td>\n",
       "      <td>0</td>\n",
       "      <td>1.0</td>\n",
       "      <td>1.268718e+08</td>\n",
       "      <td>0</td>\n",
       "      <td>10.0</td>\n",
       "      <td>Lawyer</td>\n",
       "      <td>1.004299e+07</td>\n",
       "      <td>NaN</td>\n",
       "      <td>0.377987</td>\n",
       "    </tr>\n",
       "    <tr>\n",
       "      <th>4</th>\n",
       "      <td>4</td>\n",
       "      <td>1</td>\n",
       "      <td>9.0</td>\n",
       "      <td>8.596042e+07</td>\n",
       "      <td>1</td>\n",
       "      <td>99.0</td>\n",
       "      <td>Artist</td>\n",
       "      <td>1.021908e+07</td>\n",
       "      <td>NaN</td>\n",
       "      <td>0.657579</td>\n",
       "    </tr>\n",
       "  </tbody>\n",
       "</table>\n",
       "</div>"
      ],
      "text/plain": [
       "   id  was_married  children        salary  sex   age     profession  \\\n",
       "0   0            1       4.0  4.420530e+07    1  82.0       Engineer   \n",
       "1   1            1       2.0  1.737490e+08    1  32.0         Doctor   \n",
       "2   2            1       6.0  2.489055e+08    1  14.0  Entertainment   \n",
       "3   3            0       1.0  1.268718e+08    0  10.0         Lawyer   \n",
       "4   4            1       9.0  8.596042e+07    1  99.0         Artist   \n",
       "\n",
       "      home_cost  drive_info  happyness  \n",
       "0  1.003674e+07         NaN   0.727499  \n",
       "1  1.014051e+07         0.0   0.383234  \n",
       "2  1.043318e+07         NaN   0.432142  \n",
       "3  1.004299e+07         NaN   0.377987  \n",
       "4  1.021908e+07         NaN   0.657579  "
      ]
     },
     "execution_count": 2,
     "metadata": {},
     "output_type": "execute_result"
    }
   ],
   "source": [
    "data_path = \"https://raw.githubusercontent.com/a-milenkin/mipt_data_science_2021/main/data/people_data_clustering.csv\"\n",
    "data = pd.read_csv(data_path, index_col=False)\n",
    "print(\"Размеры датасета\", data.shape)\n",
    "data.head()"
   ]
  },
  {
   "cell_type": "markdown",
   "metadata": {
    "id": "UgAn2LwV7Zjd"
   },
   "source": [
    "**Про Датасет**\n",
    "    \n",
    "Датасет представляет собой информацию по жителям некоторого города.\n",
    "\n",
    "- was_married - Был ли когда-либо женат/замужем\n",
    "- children - Количество детей\n",
    "- salary - Уровень зарплаты\n",
    "- sex - Пол (0 - женщина, 1 - мужчина)\n",
    "- age - Возраст\n",
    "- home_cost - Сумарная стоимость жилья/недвижимости\n",
    "- Professon - Профессия\n",
    "- drive_info - Есть ли водительские права\n",
    "- happyness - уровень счастья по результатам опроса\n",
    "    "
   ]
  },
  {
   "cell_type": "markdown",
   "metadata": {
    "id": "DBVm2b-o7Zjf"
   },
   "source": [
    "**Чистка датасета**\n",
    "- Удалим дубликаты и выбросы"
   ]
  },
  {
   "cell_type": "code",
   "execution_count": 3,
   "metadata": {
    "ExecuteTime": {
     "end_time": "2022-07-05T16:46:11.742736Z",
     "start_time": "2022-07-05T16:46:11.722131Z"
    },
    "colab": {
     "base_uri": "https://localhost:8080/"
    },
    "executionInfo": {
     "elapsed": 288,
     "status": "ok",
     "timestamp": 1653898397556,
     "user": {
      "displayName": "Станислав Алексеев",
      "userId": "03911901587482254567"
     },
     "user_tz": -240
    },
    "id": "Yn8t6HsO7Zjg",
    "outputId": "eecb49e5-383a-441f-ac6d-de304d4935eb"
   },
   "outputs": [
    {
     "data": {
      "text/plain": [
       "0"
      ]
     },
     "execution_count": 3,
     "metadata": {},
     "output_type": "execute_result"
    }
   ],
   "source": [
    "data.duplicated().sum() # no duplicates"
   ]
  },
  {
   "cell_type": "code",
   "execution_count": 4,
   "metadata": {
    "ExecuteTime": {
     "end_time": "2022-07-05T16:46:13.395402Z",
     "start_time": "2022-07-05T16:46:13.378757Z"
    },
    "id": "dMPmGbx88WGs"
   },
   "outputs": [],
   "source": [
    "data.dropna(axis=1, inplace = True) # remove columns with nan values"
   ]
  },
  {
   "cell_type": "code",
   "execution_count": null,
   "metadata": {
    "id": "Op0oC-eZ9JSH"
   },
   "outputs": [],
   "source": [
    "q75 = np.percentile(data.home_cost, 75)  # определяем 75 перцентиль\n",
    "q25 = np.percentile(data.home_cost, 25)  # определяем 25 перцентиль\n",
    "intr_qr = q75-q25                        # определяем межквартильный диапазон\n",
    "max = q75+(1.5*intr_qr)                  # оцениваем верхнюю границу\n",
    "min = q25-(1.5*intr_qr)                  # оцениваем нижнюю границу\n",
    "\n",
    "for x in ['home_cost']:                  # для каждой строки из home_cost\n",
    "    data.loc[data[x] < min,x] = np.nan   # присвоение знания nan значениям ниже min\n",
    "    data.loc[data[x] > max,x] = np.nan   # присвоение знания nan значениям выше max"
   ]
  },
  {
   "cell_type": "code",
   "execution_count": 5,
   "metadata": {
    "ExecuteTime": {
     "end_time": "2022-07-05T16:46:17.229011Z",
     "start_time": "2022-07-05T16:46:17.209512Z"
    },
    "id": "xdo1k5rQ-1A-"
   },
   "outputs": [],
   "source": [
    "data.dropna(inplace = True) # удаляем выбросы"
   ]
  },
  {
   "cell_type": "code",
   "execution_count": 6,
   "metadata": {
    "ExecuteTime": {
     "end_time": "2022-07-05T16:46:19.181180Z",
     "start_time": "2022-07-05T16:46:19.161803Z"
    },
    "colab": {
     "base_uri": "https://localhost:8080/"
    },
    "executionInfo": {
     "elapsed": 292,
     "status": "ok",
     "timestamp": 1653898398123,
     "user": {
      "displayName": "Станислав Алексеев",
      "userId": "03911901587482254567"
     },
     "user_tz": -240
    },
    "id": "-bdw69b9_JY-",
    "outputId": "8ecdaf3b-8c03-42c6-b63d-3d4fb6990a0f"
   },
   "outputs": [
    {
     "data": {
      "text/plain": [
       "(6000, 9)"
      ]
     },
     "execution_count": 6,
     "metadata": {},
     "output_type": "execute_result"
    }
   ],
   "source": [
    "data.shape # удалили 13 выбросов"
   ]
  },
  {
   "cell_type": "markdown",
   "metadata": {
    "id": "vdY1oHi_7Zjg"
   },
   "source": [
    "# Проверим некоторые гипотезы"
   ]
  },
  {
   "cell_type": "markdown",
   "metadata": {
    "id": "T8kAa9u-7Zjh"
   },
   "source": [
    "**Проверим, правда ли между Homemaker, Marketing, Healthcare и Executive в среднем  зарплаты не отличаются между собой?**"
   ]
  },
  {
   "cell_type": "code",
   "execution_count": 7,
   "metadata": {
    "ExecuteTime": {
     "end_time": "2022-07-05T16:47:21.707930Z",
     "start_time": "2022-07-05T16:47:21.695425Z"
    },
    "id": "x-Q8zV1UDYg-"
   },
   "outputs": [],
   "source": [
    "df_task1 = data.loc[data['profession'].isin(['Homemaker', 'Marketing', 'Healthcare', 'Executive'])] # select categories"
   ]
  },
  {
   "cell_type": "code",
   "execution_count": 8,
   "metadata": {
    "ExecuteTime": {
     "end_time": "2022-07-05T16:47:33.698086Z",
     "start_time": "2022-07-05T16:47:32.513365Z"
    },
    "colab": {
     "base_uri": "https://localhost:8080/",
     "height": 633
    },
    "executionInfo": {
     "elapsed": 2443,
     "status": "ok",
     "timestamp": 1653900414329,
     "user": {
      "displayName": "Станислав Алексеев",
      "userId": "03911901587482254567"
     },
     "user_tz": -240
    },
    "id": "Sn6_afmv_rNY",
    "outputId": "ceddf096-16e0-409f-bd34-dc572207deb7"
   },
   "outputs": [
    {
     "data": {
      "image/png": "[encoded data removed]",
      "text/plain": [
       "<Figure size 999.725x360 with 1 Axes>"
      ]
     },
     "metadata": {},
     "output_type": "display_data"
    },
    {
     "data": {
      "image/png": "[encoded data removed]",
      "text/plain": [
       "<Figure size 1152x288 with 1 Axes>"
      ]
     },
     "metadata": {},
     "output_type": "display_data"
    }
   ],
   "source": [
    "# Гистограммы со сглаживанием\n",
    "sns.displot(df_task1, x=\"salary\", hue=\"profession\", height=5, aspect=2.5, kind=\"kde\");\n",
    "\n",
    "# Бокс-плоты\n",
    "plt.figure(figsize=(16, 4))\n",
    "sns.boxplot(data=df_task1, y=\"profession\", x=\"salary\", hue=\"profession\");"
   ]
  },
  {
   "cell_type": "markdown",
   "metadata": {
    "id": "F-THEmpnMAqs"
   },
   "source": [
    "С помощью теста Шапиро-Уилка проверим на нормальность распределения:"
   ]
  },
  {
   "cell_type": "code",
   "execution_count": 9,
   "metadata": {
    "ExecuteTime": {
     "end_time": "2022-07-05T16:47:50.069100Z",
     "start_time": "2022-07-05T16:47:50.043884Z"
    },
    "colab": {
     "base_uri": "https://localhost:8080/"
    },
    "executionInfo": {
     "elapsed": 12,
     "status": "ok",
     "timestamp": 1653898404597,
     "user": {
      "displayName": "Станислав Алексеев",
      "userId": "03911901587482254567"
     },
     "user_tz": -240
    },
    "id": "c2Ph8Ft0_rJ3",
    "outputId": "1e146ab9-dc02-4517-c43b-6c13766f87eb"
   },
   "outputs": [
    {
     "name": "stdout",
     "output_type": "stream",
     "text": [
      "Распределение Homemaker не нормальное\n",
      "p-value = 0.05\n",
      "Распределение Marketing не нормальное\n",
      "p-value = 0.042\n",
      "Распределение Healthcare не нормальное\n",
      "p-value = 0.001\n",
      "Распределение Executive не нормальное\n",
      "p-value = 0.001\n"
     ]
    }
   ],
   "source": [
    "professions = df_task1.profession.unique()\n",
    "for i in professions:\n",
    "    temp_df = df_task1.loc[df_task1['profession'] == i].salary    \n",
    "    stat, p_value = stats.shapiro(temp_df)\n",
    "    alpha = 0.05\n",
    "    if p_value > alpha:\n",
    "      print(f'Распределение {i} нормальное')\n",
    "    else:  \n",
    "      print(f'Распределение {i} не нормальное')\n",
    "    print(f'p-value = {round(p_value,3)}') "
   ]
  },
  {
   "cell_type": "markdown",
   "metadata": {
    "id": "xg01F8NtN29L"
   },
   "source": [
    "Как видим все 4 распределения не являются нормальными, поэтому используем Критерий Краскела — Уоллиса"
   ]
  },
  {
   "cell_type": "code",
   "execution_count": 10,
   "metadata": {
    "ExecuteTime": {
     "end_time": "2022-07-05T16:48:02.754756Z",
     "start_time": "2022-07-05T16:48:02.734667Z"
    },
    "id": "iDzAGNf4OZd0"
   },
   "outputs": [],
   "source": [
    "Homemaker = data[data[\"profession\"] == \"Homemaker\"].salary\n",
    "Marketing = data[data[\"profession\"] == \"Marketing\"].salary\n",
    "Healthcare = data[data[\"profession\"] == \"Healthcare\"].salary\n",
    "Executive = data[data[\"profession\"] == \"Executive\"].salary"
   ]
  },
  {
   "cell_type": "code",
   "execution_count": 11,
   "metadata": {
    "ExecuteTime": {
     "end_time": "2022-07-05T16:48:05.767237Z",
     "start_time": "2022-07-05T16:48:05.718654Z"
    },
    "colab": {
     "base_uri": "https://localhost:8080/"
    },
    "executionInfo": {
     "elapsed": 10,
     "status": "ok",
     "timestamp": 1653898404597,
     "user": {
      "displayName": "Станислав Алексеев",
      "userId": "03911901587482254567"
     },
     "user_tz": -240
    },
    "id": "rS3YhGRdP4S9",
    "outputId": "6e57598d-9a83-4ac9-d0a8-f2b5930167dc"
   },
   "outputs": [
    {
     "name": "stdout",
     "output_type": "stream",
     "text": [
      "statistic = 2494.363, p-value = 0.0\n",
      "Разное распределение (отклоняем H0)\n",
      "Выборки отличаются статистически значимо\n"
     ]
    }
   ],
   "source": [
    "statistic, pvalue = stats.kruskal(Healthcare, Homemaker, Marketing, Executive)\n",
    "\n",
    "print(f'statistic = {round(statistic,3)}, p-value = {round(pvalue,3)}')\n",
    "alpha = 0.05\n",
    "if pvalue > alpha:  # Интерпретируем результат\n",
    "    print(\"Одинаковое распределение (не отвергаем H0)\")\n",
    "else:\n",
    "    print(\"Разное распределение (отклоняем H0)\")\n",
    "    print(\"Выборки отличаются статистически значимо\")"
   ]
  },
  {
   "cell_type": "markdown",
   "metadata": {
    "id": "cY25vtO3RQHB"
   },
   "source": [
    "* Зарплаты выбранных категорий отличаются и это отличие статистически значимо\n",
    "\n"
   ]
  },
  {
   "cell_type": "markdown",
   "metadata": {
    "id": "f9k78FXz7Zji"
   },
   "source": [
    "**Проверим отличаются ли в среднем  зарплаты между Doctor, Entertainment и Lawyer?**"
   ]
  },
  {
   "cell_type": "code",
   "execution_count": 12,
   "metadata": {
    "ExecuteTime": {
     "end_time": "2022-07-05T16:48:37.569388Z",
     "start_time": "2022-07-05T16:48:37.551386Z"
    },
    "id": "B_68j7jC7Zji"
   },
   "outputs": [],
   "source": [
    "df_task2 = data.loc[data['profession'].isin(['Doctor', 'Entertainment', 'Lawyer'])] # select categories"
   ]
  },
  {
   "cell_type": "code",
   "execution_count": 13,
   "metadata": {
    "ExecuteTime": {
     "end_time": "2022-07-05T16:48:39.926025Z",
     "start_time": "2022-07-05T16:48:39.523916Z"
    },
    "colab": {
     "base_uri": "https://localhost:8080/",
     "height": 292
    },
    "executionInfo": {
     "elapsed": 824,
     "status": "ok",
     "timestamp": 1653898410440,
     "user": {
      "displayName": "Станислав Алексеев",
      "userId": "03911901587482254567"
     },
     "user_tz": -240
    },
    "id": "LwQYIYLYlR9N",
    "outputId": "ae10d05e-2a6a-4ecf-be80-91d9fd1bcede"
   },
   "outputs": [
    {
     "data": {
      "image/png": "[encoded data removed]",
      "text/plain": [
       "<Figure size 432x288 with 1 Axes>"
      ]
     },
     "metadata": {},
     "output_type": "display_data"
    }
   ],
   "source": [
    "df_task2[['profession','salary']].pivot(index = None, columns='profession', values='salary').plot.kde();"
   ]
  },
  {
   "cell_type": "code",
   "execution_count": 14,
   "metadata": {
    "ExecuteTime": {
     "end_time": "2022-07-05T16:48:47.320673Z",
     "start_time": "2022-07-05T16:48:46.728718Z"
    },
    "colab": {
     "base_uri": "https://localhost:8080/",
     "height": 365
    },
    "executionInfo": {
     "elapsed": 2017,
     "status": "ok",
     "timestamp": 1653899971766,
     "user": {
      "displayName": "Станислав Алексеев",
      "userId": "03911901587482254567"
     },
     "user_tz": -240
    },
    "id": "07RhFNIcSVKq",
    "outputId": "5649508e-0b45-4c69-a088-719b8d8ca664"
   },
   "outputs": [
    {
     "data": {
      "image/png": "[encoded data removed]",
      "text/plain": [
       "<Figure size 468.475x360 with 1 Axes>"
      ]
     },
     "metadata": {},
     "output_type": "display_data"
    }
   ],
   "source": [
    "# Гистограммы со сглаживанием\n",
    "sns.displot(df_task2, x=\"salary\", hue=\"profession\", kind = 'kde', common_norm = False);"
   ]
  },
  {
   "cell_type": "code",
   "execution_count": 15,
   "metadata": {
    "ExecuteTime": {
     "end_time": "2022-07-05T16:49:07.113761Z",
     "start_time": "2022-07-05T16:49:06.808611Z"
    },
    "colab": {
     "base_uri": "https://localhost:8080/",
     "height": 285
    },
    "executionInfo": {
     "elapsed": 796,
     "status": "ok",
     "timestamp": 1653764089540,
     "user": {
      "displayName": "Станислав Алексеев",
      "userId": "03911901587482254567"
     },
     "user_tz": -240
    },
    "id": "KJHkdOepXRe3",
    "outputId": "3a0e722c-143f-4d89-ebcf-547ce198be29"
   },
   "outputs": [
    {
     "data": {
      "image/png": "[encoded data removed]",
      "text/plain": [
       "<Figure size 432x288 with 1 Axes>"
      ]
     },
     "metadata": {},
     "output_type": "display_data"
    }
   ],
   "source": [
    "sns.boxplot(data=df_task2, y=\"profession\", x=\"salary\");"
   ]
  },
  {
   "cell_type": "code",
   "execution_count": 16,
   "metadata": {
    "ExecuteTime": {
     "end_time": "2022-07-05T16:49:10.697442Z",
     "start_time": "2022-07-05T16:49:10.675536Z"
    },
    "colab": {
     "base_uri": "https://localhost:8080/"
    },
    "executionInfo": {
     "elapsed": 312,
     "status": "ok",
     "timestamp": 1653764093347,
     "user": {
      "displayName": "Станислав Алексеев",
      "userId": "03911901587482254567"
     },
     "user_tz": -240
    },
    "id": "r8NSnQIVSVHM",
    "outputId": "f43dd838-0373-479f-b758-f15c96da4af6"
   },
   "outputs": [
    {
     "name": "stdout",
     "output_type": "stream",
     "text": [
      "Распределение Doctor не нормальное\n",
      "p-value = 0.0\n",
      "Распределение Entertainment не нормальное\n",
      "p-value = 0.003\n",
      "Распределение Lawyer нормальное\n",
      "p-value = 0.092\n"
     ]
    }
   ],
   "source": [
    "professions = df_task2.profession.unique() \n",
    "for i in professions: # проверка на нормальность\n",
    "    temp_df = df_task2.loc[df_task2['profession'] == i].salary    \n",
    "    stat, p_value = stats.shapiro(temp_df)\n",
    "    alpha = 0.05\n",
    "    if p_value > alpha:\n",
    "      print(f'Распределение {i} нормальное')\n",
    "    else:  \n",
    "      print(f'Распределение {i} не нормальное')\n",
    "    print(f'p-value = {round(p_value,3)}') "
   ]
  },
  {
   "cell_type": "markdown",
   "metadata": {
    "id": "SUqiQgZMWgt4"
   },
   "source": [
    "Только 1 распределение нормальное, поэтому снова применяем критерий Краскелла-\n",
    "Уолисса"
   ]
  },
  {
   "cell_type": "code",
   "execution_count": 17,
   "metadata": {
    "ExecuteTime": {
     "end_time": "2022-07-05T16:49:15.930275Z",
     "start_time": "2022-07-05T16:49:15.906536Z"
    },
    "id": "cjnQCj3hSVEv"
   },
   "outputs": [],
   "source": [
    "Doctor = data[data[\"profession\"] == \"Doctor\"].salary\n",
    "Entertainment = data[data[\"profession\"] == \"Entertainment\"].salary\n",
    "Lawyer = data[data[\"profession\"] == \"Lawyer\"].salary"
   ]
  },
  {
   "cell_type": "code",
   "execution_count": 18,
   "metadata": {
    "ExecuteTime": {
     "end_time": "2022-07-05T16:49:17.833995Z",
     "start_time": "2022-07-05T16:49:17.817197Z"
    },
    "colab": {
     "base_uri": "https://localhost:8080/"
    },
    "executionInfo": {
     "elapsed": 297,
     "status": "ok",
     "timestamp": 1653764099018,
     "user": {
      "displayName": "Станислав Алексеев",
      "userId": "03911901587482254567"
     },
     "user_tz": -240
    },
    "id": "99GuQEyuSVAl",
    "outputId": "719b12e9-70b3-4e3c-c1f1-a0f374d8b1bf"
   },
   "outputs": [
    {
     "name": "stdout",
     "output_type": "stream",
     "text": [
      "statistic = 151.845, p-value = 0.0\n",
      "Разные распределения (отклоняем H0)\n",
      "Выборки отличаются статистически значимо\n"
     ]
    }
   ],
   "source": [
    "statistic, pvalue = stats.kruskal(Doctor, Entertainment, Lawyer)\n",
    "\n",
    "print(f'statistic = {round(statistic,3)}, p-value = {round(pvalue,3)}')\n",
    "alpha = 0.05\n",
    "if pvalue > alpha:  # Интерпретируем результат\n",
    "    print(\"Одинаковое распределение (не отвергаем H0)\")\n",
    "else:\n",
    "    print(\"Разные распределения (отклоняем H0)\")\n",
    "    print(\"Выборки отличаются статистически значимо\")"
   ]
  },
  {
   "cell_type": "markdown",
   "metadata": {
    "id": "vEoy02E1ZPqF"
   },
   "source": [
    "* Несмотря на похожесть визуально, распределения статистически значимо различаются\n",
    "\n",
    "\n"
   ]
  },
  {
   "cell_type": "markdown",
   "metadata": {
    "id": "pWYn0gi67Zjj"
   },
   "source": [
    "\n",
    "**Допустим мы рассматриваем 4 группы населения, отличающихся количеством детей. Группы следующие.**\n",
    " - A - нет детей\n",
    " - B - 1 ребенок\n",
    " - C - от 2 до 4 детей\n",
    " - D - от 5 детей    \n",
    "      \n",
    "      \n",
    " **Проверим отличаются ли по уровню дохода и уровню счастья эти группы?**"
   ]
  },
  {
   "cell_type": "code",
   "execution_count": 19,
   "metadata": {
    "ExecuteTime": {
     "end_time": "2022-07-05T16:50:43.520102Z",
     "start_time": "2022-07-05T16:50:43.467452Z"
    },
    "id": "-sB94Uz_7Zjj"
   },
   "outputs": [],
   "source": [
    "data['number_children'] = pd.cut(data.children, \n",
    "       bins=[-1, 0, 1, 4, 9], \n",
    "       labels=['0', '1', '2-4','more_5']) # добавляем столбец количества детей number_children     "
   ]
  },
  {
   "cell_type": "markdown",
   "metadata": {
    "id": "huero2W_lmH5"
   },
   "source": [
    "Начнем с уровня дохода\n"
   ]
  },
  {
   "cell_type": "code",
   "execution_count": 20,
   "metadata": {
    "ExecuteTime": {
     "end_time": "2022-07-05T16:50:50.055487Z",
     "start_time": "2022-07-05T16:50:49.445257Z"
    },
    "colab": {
     "base_uri": "https://localhost:8080/",
     "height": 365
    },
    "executionInfo": {
     "elapsed": 1550,
     "status": "ok",
     "timestamp": 1653489166734,
     "user": {
      "displayName": "Станислав Алексеев",
      "userId": "03911901587482254567"
     },
     "user_tz": -240
    },
    "id": "n8iyxxVvRpVe",
    "outputId": "d183b45b-cb3e-4d2f-8e45-1af3650faa86"
   },
   "outputs": [
    {
     "data": {
      "image/png": "[encoded data removed]",
      "text/plain": [
       "<Figure size 458.05x360 with 1 Axes>"
      ]
     },
     "metadata": {},
     "output_type": "display_data"
    }
   ],
   "source": [
    "sns.displot(data, x=\"salary\", hue=\"number_children\", kind='kde');# распределения далеки от нормальных, сразу переходим к параметру Краскелла-Уоллиса"
   ]
  },
  {
   "cell_type": "code",
   "execution_count": 21,
   "metadata": {
    "ExecuteTime": {
     "end_time": "2022-07-05T16:50:53.621449Z",
     "start_time": "2022-07-05T16:50:53.269009Z"
    },
    "colab": {
     "base_uri": "https://localhost:8080/",
     "height": 302
    },
    "executionInfo": {
     "elapsed": 839,
     "status": "ok",
     "timestamp": 1653489094032,
     "user": {
      "displayName": "Станислав Алексеев",
      "userId": "03911901587482254567"
     },
     "user_tz": -240
    },
    "id": "BcJR5JtgkEMR",
    "outputId": "2ec46ad3-36cd-4aee-b899-ca9d20541991"
   },
   "outputs": [
    {
     "data": {
      "text/plain": [
       "<AxesSubplot:xlabel='salary', ylabel='number_children'>"
      ]
     },
     "execution_count": 21,
     "metadata": {},
     "output_type": "execute_result"
    },
    {
     "data": {
      "image/png": "[encoded data removed]",
      "text/plain": [
       "<Figure size 432x288 with 1 Axes>"
      ]
     },
     "metadata": {},
     "output_type": "display_data"
    }
   ],
   "source": [
    "sns.boxplot(data=data, y=\"number_children\", x=\"salary\")"
   ]
  },
  {
   "cell_type": "code",
   "execution_count": 22,
   "metadata": {
    "ExecuteTime": {
     "end_time": "2022-07-05T16:50:57.916519Z",
     "start_time": "2022-07-05T16:50:57.887854Z"
    },
    "id": "nNZ-rB-gnfbL"
   },
   "outputs": [],
   "source": [
    "zero = data[data[\"number_children\"] == \"0\"].salary\n",
    "one = data[data[\"number_children\"] == \"1\"].salary\n",
    "two_four = data[data[\"number_children\"] == \"2-4\"].salary\n",
    "more_5 = data[data[\"number_children\"] == \"more_5\"].salary"
   ]
  },
  {
   "cell_type": "code",
   "execution_count": 23,
   "metadata": {
    "ExecuteTime": {
     "end_time": "2022-07-05T16:51:00.070791Z",
     "start_time": "2022-07-05T16:51:00.047697Z"
    },
    "colab": {
     "base_uri": "https://localhost:8080/"
    },
    "executionInfo": {
     "elapsed": 362,
     "status": "ok",
     "timestamp": 1653489085090,
     "user": {
      "displayName": "Станислав Алексеев",
      "userId": "03911901587482254567"
     },
     "user_tz": -240
    },
    "id": "532btDqjldlD",
    "outputId": "01c756e6-6b94-4b4c-febb-385422279e07"
   },
   "outputs": [
    {
     "name": "stdout",
     "output_type": "stream",
     "text": [
      "statistic = 1746.575, p-value = 0.0\n",
      "Разные распределения (отклоняем H0)\n",
      "Выборки отличаются статистически значимо\n"
     ]
    }
   ],
   "source": [
    "statistic, pvalue = stats.kruskal(zero, one, two_four, more_5)\n",
    "\n",
    "print(f'statistic = {round(statistic,3)}, p-value = {round(pvalue,3)}')\n",
    "alpha = 0.05\n",
    "if pvalue > alpha:  # Интерпретируем результат\n",
    "    print(\"Одинаковое распределение (не отвергаем H0)\")\n",
    "else:\n",
    "    print(\"Разные распределения (отклоняем H0)\")\n",
    "    print(\"Выборки отличаются статистически значимо\")"
   ]
  },
  {
   "cell_type": "markdown",
   "metadata": {
    "id": "NcDmw_Vcoz8T"
   },
   "source": [
    "Перейдем к уровню счастья"
   ]
  },
  {
   "cell_type": "code",
   "execution_count": 24,
   "metadata": {
    "ExecuteTime": {
     "end_time": "2022-07-05T16:51:06.414333Z",
     "start_time": "2022-07-05T16:51:05.745904Z"
    },
    "colab": {
     "base_uri": "https://localhost:8080/",
     "height": 365
    },
    "executionInfo": {
     "elapsed": 2016,
     "status": "ok",
     "timestamp": 1653489202850,
     "user": {
      "displayName": "Станислав Алексеев",
      "userId": "03911901587482254567"
     },
     "user_tz": -240
    },
    "id": "9Nk3wDI_oSZ4",
    "outputId": "ad4c4033-c775-4e46-82ea-1263cca27e03"
   },
   "outputs": [
    {
     "data": {
      "text/plain": [
       "<seaborn.axisgrid.FacetGrid at 0x1be5b400b80>"
      ]
     },
     "execution_count": 24,
     "metadata": {},
     "output_type": "execute_result"
    },
    {
     "data": {
      "image/png": "[encoded data removed]",
      "text/plain": [
       "<Figure size 458.05x360 with 1 Axes>"
      ]
     },
     "metadata": {},
     "output_type": "display_data"
    }
   ],
   "source": [
    "sns.displot(data, x=\"happyness\", hue=\"number_children\", kind='kde')"
   ]
  },
  {
   "cell_type": "code",
   "execution_count": 25,
   "metadata": {
    "ExecuteTime": {
     "end_time": "2022-07-05T16:51:08.924940Z",
     "start_time": "2022-07-05T16:51:08.629393Z"
    },
    "colab": {
     "base_uri": "https://localhost:8080/",
     "height": 285
    },
    "executionInfo": {
     "elapsed": 887,
     "status": "ok",
     "timestamp": 1653489562404,
     "user": {
      "displayName": "Станислав Алексеев",
      "userId": "03911901587482254567"
     },
     "user_tz": -240
    },
    "id": "Wh4ANFXNqEHW",
    "outputId": "c9c71ff5-b7a8-48c4-a3d1-77db5cdc47ff"
   },
   "outputs": [
    {
     "data": {
      "image/png": "[encoded data removed]",
      "text/plain": [
       "<Figure size 432x288 with 1 Axes>"
      ]
     },
     "metadata": {},
     "output_type": "display_data"
    }
   ],
   "source": [
    "sns.boxplot(data=data, y=\"number_children\", x=\"happyness\");"
   ]
  },
  {
   "cell_type": "code",
   "execution_count": 26,
   "metadata": {
    "ExecuteTime": {
     "end_time": "2022-07-05T16:51:11.414122Z",
     "start_time": "2022-07-05T16:51:11.395606Z"
    },
    "colab": {
     "base_uri": "https://localhost:8080/"
    },
    "executionInfo": {
     "elapsed": 303,
     "status": "ok",
     "timestamp": 1653489359589,
     "user": {
      "displayName": "Станислав Алексеев",
      "userId": "03911901587482254567"
     },
     "user_tz": -240
    },
    "id": "rypq-3UIouwL",
    "outputId": "cd95e0fe-ce34-45ca-a100-82229b5d938a"
   },
   "outputs": [
    {
     "name": "stdout",
     "output_type": "stream",
     "text": [
      "Распределение 2-4 нормальное\n",
      "p-value = 0.084\n",
      "Распределение more_5 нормальное\n",
      "p-value = 0.447\n",
      "Распределение 1 нормальное\n",
      "p-value = 0.21\n",
      "Распределение 0 нормальное\n",
      "p-value = 0.743\n"
     ]
    }
   ],
   "source": [
    "numbers_children = data.number_children.unique() \n",
    "for i in numbers_children: # проверка на нормальность\n",
    "    temp_df = data.loc[data['number_children'] == i].happyness    \n",
    "    stat, p_value = stats.shapiro(temp_df)\n",
    "    alpha = 0.05\n",
    "    if p_value > alpha:\n",
    "      print(f'Распределение {i} нормальное')\n",
    "    else:  \n",
    "      print(f'Распределение {i} не нормальное')\n",
    "    print(f'p-value = {round(p_value,3)}') "
   ]
  },
  {
   "cell_type": "markdown",
   "metadata": {
    "id": "03IrXrDgpYKZ"
   },
   "source": [
    "Все распределения нормальные, можем применять дисперсионный анализ"
   ]
  },
  {
   "cell_type": "code",
   "execution_count": 27,
   "metadata": {
    "ExecuteTime": {
     "end_time": "2022-07-05T16:51:14.713569Z",
     "start_time": "2022-07-05T16:51:14.664833Z"
    },
    "colab": {
     "base_uri": "https://localhost:8080/"
    },
    "executionInfo": {
     "elapsed": 300,
     "status": "ok",
     "timestamp": 1653489472070,
     "user": {
      "displayName": "Станислав Алексеев",
      "userId": "03911901587482254567"
     },
     "user_tz": -240
    },
    "id": "cGPO_ZAqpfNy",
    "outputId": "d6603b4d-6c35-4d3e-d967-d9bfe10d8729"
   },
   "outputs": [
    {
     "name": "stdout",
     "output_type": "stream",
     "text": [
      "statistic = 1020.316, p-value = 0.0\n",
      "Разные распределения (отклоняем H0)\n",
      "Выборки отличаются статистически значимо\n"
     ]
    }
   ],
   "source": [
    "statistic, pvalue = stats.f_oneway(zero, one, two_four, more_5)\n",
    "\n",
    "print(f'statistic = {round(statistic,3)}, p-value = {round(pvalue,3)}')\n",
    "alpha = 0.05\n",
    "if pvalue > alpha:  # Интерпретируем результат\n",
    "    print(\"Одинаковое распределение (не отвергаем H0)\")\n",
    "else:\n",
    "    print(\"Разные распределения (отклоняем H0)\")\n",
    "    print(\"Выборки отличаются статистически значимо\")"
   ]
  },
  {
   "cell_type": "markdown",
   "metadata": {
    "id": "4YQApQJtqQj0"
   },
   "source": [
    "Да, группы статистически значимо различаются как по уровню дохода, так и по уровню счастья"
   ]
  }
 ],
 "metadata": {
  "colab": {
   "collapsed_sections": [
    "5UB_fM1W7ZjY",
    "CQS2IUKt7Zjb",
    "DBVm2b-o7Zjf",
    "pWYn0gi67Zjj"
   ],
   "name": "hw 4.ipynb",
   "provenance": []
  },
  "kernelspec": {
   "display_name": "Python 3 (ipykernel)",
   "language": "python",
   "name": "python3"
  },
  "language_info": {
   "codemirror_mode": {
    "name": "ipython",
    "version": 3
   },
   "file_extension": ".py",
   "mimetype": "text/x-python",
   "name": "python",
   "nbconvert_exporter": "python",
   "pygments_lexer": "ipython3",
   "version": "3.9.7"
  },
  "toc": {
   "base_numbering": 1,
   "nav_menu": {},
   "number_sections": true,
   "sideBar": true,
   "skip_h1_title": false,
   "title_cell": "Table of Contents",
   "title_sidebar": "Contents",
   "toc_cell": false,
   "toc_position": {},
   "toc_section_display": true,
   "toc_window_display": false
  }
 },
 "nbformat": 4,
 "nbformat_minor": 1
}
